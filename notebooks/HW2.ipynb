{
 "cells": [
  {
   "cell_type": "markdown",
   "id": "d46d7f80",
   "metadata": {},
   "source": [
    "Импортируем всякое"
   ]
  },
  {
   "cell_type": "code",
   "execution_count": 1,
   "id": "17223940",
   "metadata": {},
   "outputs": [],
   "source": [
    "import pandas as pd\n",
    "import numpy as np\n",
    "import matplotlib.pyplot as plt\n",
    "import seaborn as sns\n",
    "import datetime\n",
    "from sklearn.model_selection import KFold\n",
    "from sklearn.metrics import mean_squared_error, mean_squared_log_error\n",
    "from sklearn.linear_model import LogisticRegression\n",
    "from sklearn.linear_model import SGDRegressor\n",
    "from itertools import cycle\n",
    "from sklearn.metrics import roc_curve, auc\n",
    "from sklearn.model_selection import train_test_split\n",
    "from scipy import interp\n",
    "from sklearn.metrics import roc_auc_score"
   ]
  },
  {
   "cell_type": "markdown",
   "id": "969d916c",
   "metadata": {},
   "source": [
    "Вдруг придётся преоткрыть"
   ]
  },
  {
   "cell_type": "code",
   "execution_count": 2,
   "id": "96478ba8",
   "metadata": {},
   "outputs": [],
   "source": [
    "train = None\n",
    "test = None\n",
    "def reload_data():\n",
    "    global train\n",
    "    train = pd.read_csv(\"../data/raw/application_train.csv\")\n",
    "    global test\n",
    "    test = pd.read_csv(\"../data/raw/application_test.csv\")"
   ]
  },
  {
   "cell_type": "markdown",
   "id": "ba4de1e7",
   "metadata": {},
   "source": [
    "Избавимся от y\\n во флагах"
   ]
  },
  {
   "cell_type": "code",
   "execution_count": 3,
   "id": "d6e8cab1",
   "metadata": {},
   "outputs": [],
   "source": [
    "def flag_to_int(df):\n",
    "    for i in df:\n",
    "        if \"FLAG\" in i:\n",
    "            df[i] = np.where((df[i] == 'Y') | (df[i] == 'y') | (df[i] == 1), 1, 0)"
   ]
  },
  {
   "cell_type": "code",
   "execution_count": 294,
   "id": "2d69f210",
   "metadata": {},
   "outputs": [],
   "source": [
    "reload_data()"
   ]
  },
  {
   "cell_type": "code",
   "execution_count": 295,
   "id": "faacbe45",
   "metadata": {},
   "outputs": [],
   "source": [
    "flag_to_int(train)\n",
    "flag_to_int(test)"
   ]
  },
  {
   "cell_type": "code",
   "execution_count": 5,
   "id": "8605ac15",
   "metadata": {},
   "outputs": [],
   "source": [
    "target = \"TARGET\""
   ]
  },
  {
   "cell_type": "markdown",
   "id": "78fe484f",
   "metadata": {},
   "source": [
    "Достаём часть данных, чтобы ускорить работу"
   ]
  },
  {
   "cell_type": "code",
   "execution_count": 29,
   "id": "692d82e3",
   "metadata": {},
   "outputs": [],
   "source": [
    "def eq_df(df):\n",
    "    positive = df[df[target] == 1]\n",
    "    negative = df[df[target] == 0]\n",
    "\n",
    "    indexes1 = np.random.choice(len(positive), replace=False, size=20000)\n",
    "    indexes2 = np.random.choice(len(negative), replace=False, size=20000)\n",
    "\n",
    "\n",
    "    newdf = pd.concat([positive.iloc[indexes1], negative.iloc[indexes2]]).join(pd.read_csv(\"../data/raw/bureau.csv\"), on='SK_ID_CURR', how='inner', rsuffix='_b').join(pd.read_csv(\"../data/raw/credit_card_balance.csv\"), on='SK_ID_CURR', how='inner', rsuffix='_ccb').join(pd.read_csv(\"../data/raw/previous_application.csv\"), on='SK_ID_CURR', how='inner', rsuffix='_pa').join(pd.read_csv(\"../data/raw/POS_CASH_balance.csv\"), on='SK_ID_CURR', how='inner', rsuffix='_pcb')\n",
    "    return newdf\n",
    "lite = eq_df(train)\n",
    "flag_to_int(lite)"
   ]
  },
  {
   "cell_type": "markdown",
   "id": "4a6dc6ee",
   "metadata": {},
   "source": [
    "Функция для тестиования и измерения orc auc"
   ]
  },
  {
   "cell_type": "code",
   "execution_count": 7,
   "id": "8cc7fd92",
   "metadata": {},
   "outputs": [],
   "source": [
    "def comp_roc(df, features, target = \"TARGET\"):\n",
    "    kf = KFold(n_splits=5, shuffle=True) #random_state=42)\n",
    "    \n",
    "    roc_list = []\n",
    "    for i, (train_index, val_index) in enumerate(kf.split(df)):\n",
    "        train_part = df.iloc[train_index, : ]\n",
    "        train_x = train_part[features]\n",
    "        train_y = train_part[target]\n",
    "        \n",
    "        val_part = df.iloc[val_index, :]\n",
    "        test_x = val_part[features]\n",
    "        test_y = val_part[target]\n",
    "        \n",
    "        model = LogisticRegression()\n",
    "        \n",
    "        model.fit(train_x, train_y)\n",
    "        \n",
    "        y_score = model.predict_proba(test_x)[:,1]\n",
    "\n",
    "        fpr, tpr, _ = roc_curve(test_y, y_score)\n",
    "        roc_auc = auc(fpr, tpr)\n",
    "\n",
    "        print(f'Fold full {i}: roc_auc {roc_auc}')\n",
    "        roc_list.append(roc_auc)\n",
    "\n",
    "        \n",
    "    print(f'roc average = {np.mean(roc_list)}, std = {np.std(roc_list)}')"
   ]
  },
  {
   "cell_type": "markdown",
   "id": "67ba7e33",
   "metadata": {},
   "source": [
    "Функция для тестирования и подсчёта msle"
   ]
  },
  {
   "cell_type": "code",
   "execution_count": 8,
   "id": "04908a4e",
   "metadata": {},
   "outputs": [],
   "source": [
    "\n",
    "def comp_mse(df, features, target):\n",
    "    kf = KFold(n_splits=5, shuffle=True) #random_state=42)\n",
    "    \n",
    "    msle_list = []\n",
    "    mse_list = []\n",
    "    for i, (train_index, val_index) in enumerate(kf.split(df)):    \n",
    "        train_part = df.iloc[train_index, : ]\n",
    "        val_part = df.iloc[val_index, :]\n",
    "        model = SGDRegressor()\n",
    "        model.fit(X=train_part[features].fillna(0), y = train_part[target])\n",
    "\n",
    "        val_predication = model.predict(val_part[features].fillna(0)).clip(0, 100000000000)\n",
    "\n",
    "        mse = mean_squared_error(val_predication, val_part[target])\n",
    "        msle = mean_squared_log_error(val_predication, val_part[target])\n",
    "\n",
    "        \n",
    "        print(f'Fold full {i}: msle {msle}, mse {mse}')\n",
    "        msle_list.append(msle)\n",
    "        mse_list.append(mse)\n",
    "        \n",
    "    print(f'MSLE average = {np.mean(msle_list)}, std = {np.std(msle_list)}')\n",
    "    "
   ]
  },
  {
   "cell_type": "code",
   "execution_count": 286,
   "id": "84359884",
   "metadata": {},
   "outputs": [],
   "source": [
    "def predict_n_write_csv(features, path=\"predict1.csv\"):\n",
    "    target = \"TARGET\"\n",
    "    \n",
    "    model = LogisticRegression()\n",
    "    model.fit(X=train[features].fillna(0), y = train[target])\n",
    "    \n",
    "    sample_submission = pd.read_csv(\"../data/raw/sample_submission.csv\")\n",
    "    sample_submission[target] = model.predict(test[features]) \n",
    "    sample_submission.to_csv(path, index= False)"
   ]
  },
  {
   "cell_type": "markdown",
   "id": "89543c84",
   "metadata": {},
   "source": [
    "Подготовка данных"
   ]
  },
  {
   "cell_type": "code",
   "execution_count": 18,
   "id": "ef1ea269",
   "metadata": {},
   "outputs": [],
   "source": [
    "def prepare_data(x1, x2=None):\n",
    "    global train\n",
    "    train = x1(train)\n",
    "    if x2 != None:\n",
    "        global test\n",
    "        test = x2(test)"
   ]
  },
  {
   "cell_type": "markdown",
   "id": "6f29ba6d",
   "metadata": {},
   "source": [
    "Подцепим флаги из осного сета"
   ]
  },
  {
   "cell_type": "code",
   "execution_count": 75,
   "id": "7ebe2b0e",
   "metadata": {},
   "outputs": [],
   "source": [
    "flags = [\"FLAG_MOBIL\", \"FLAG_EMP_PHONE\", \"FLAG_CONT_MOBILE\", \"FLAG_EMAIL\", \"REG_REGION_NOT_WORK_REGION\",\n",
    "        # \"DAYS_LAST_PHONE_CHANGE\", 'REG_REGION_NOT_LIVE_REGION','REG_REGION_NOT_WORK_REGION',\n",
    "         'LIVE_REGION_NOT_WORK_REGION', 'REG_CITY_NOT_LIVE_CITY','REG_CITY_NOT_WORK_CITY',\n",
    "            'FLAG_OWN_REALTY', 'FLAG_OWN_CAR']"
   ]
  },
  {
   "cell_type": "code",
   "execution_count": 12,
   "id": "caaab16d",
   "metadata": {},
   "outputs": [],
   "source": [
    "lite.AMT_CREDIT_SUM.fillna(0, inplace=True)"
   ]
  },
  {
   "cell_type": "code",
   "execution_count": 13,
   "id": "21df056b",
   "metadata": {},
   "outputs": [],
   "source": [
    "lite['have_credit'] = lite.AMT_CREDIT_SUM > lite.AMT_GOODS_PRICE"
   ]
  },
  {
   "cell_type": "code",
   "execution_count": 14,
   "id": "0235099a",
   "metadata": {},
   "outputs": [],
   "source": [
    "lite['have_credit'] = np.where(lite['have_credit'], 1, 0)\n"
   ]
  },
  {
   "cell_type": "code",
   "execution_count": 33,
   "id": "249b32a9",
   "metadata": {},
   "outputs": [
    {
     "data": {
      "text/html": [
       "<div>\n",
       "<style scoped>\n",
       "    .dataframe tbody tr th:only-of-type {\n",
       "        vertical-align: middle;\n",
       "    }\n",
       "\n",
       "    .dataframe tbody tr th {\n",
       "        vertical-align: top;\n",
       "    }\n",
       "\n",
       "    .dataframe thead th {\n",
       "        text-align: right;\n",
       "    }\n",
       "</style>\n",
       "<table border=\"1\" class=\"dataframe\">\n",
       "  <thead>\n",
       "    <tr style=\"text-align: right;\">\n",
       "      <th></th>\n",
       "      <th>EXT_SOURCE_1</th>\n",
       "      <th>EXT_SOURCE_2</th>\n",
       "      <th>EXT_SOURCE_3</th>\n",
       "      <th>TARGET</th>\n",
       "    </tr>\n",
       "  </thead>\n",
       "  <tbody>\n",
       "    <tr>\n",
       "      <th>133139</th>\n",
       "      <td>NaN</td>\n",
       "      <td>0.405187</td>\n",
       "      <td>0.372334</td>\n",
       "      <td>1</td>\n",
       "    </tr>\n",
       "    <tr>\n",
       "      <th>289474</th>\n",
       "      <td>NaN</td>\n",
       "      <td>0.481396</td>\n",
       "      <td>NaN</td>\n",
       "      <td>1</td>\n",
       "    </tr>\n",
       "    <tr>\n",
       "      <th>231829</th>\n",
       "      <td>NaN</td>\n",
       "      <td>0.266028</td>\n",
       "      <td>0.357293</td>\n",
       "      <td>1</td>\n",
       "    </tr>\n",
       "    <tr>\n",
       "      <th>137855</th>\n",
       "      <td>0.335982</td>\n",
       "      <td>0.110994</td>\n",
       "      <td>0.499272</td>\n",
       "      <td>1</td>\n",
       "    </tr>\n",
       "    <tr>\n",
       "      <th>290937</th>\n",
       "      <td>NaN</td>\n",
       "      <td>0.670619</td>\n",
       "      <td>0.427657</td>\n",
       "      <td>1</td>\n",
       "    </tr>\n",
       "    <tr>\n",
       "      <th>...</th>\n",
       "      <td>...</td>\n",
       "      <td>...</td>\n",
       "      <td>...</td>\n",
       "      <td>...</td>\n",
       "    </tr>\n",
       "    <tr>\n",
       "      <th>20494</th>\n",
       "      <td>0.625355</td>\n",
       "      <td>0.626707</td>\n",
       "      <td>0.553165</td>\n",
       "      <td>0</td>\n",
       "    </tr>\n",
       "    <tr>\n",
       "      <th>201100</th>\n",
       "      <td>NaN</td>\n",
       "      <td>0.490321</td>\n",
       "      <td>0.452534</td>\n",
       "      <td>0</td>\n",
       "    </tr>\n",
       "    <tr>\n",
       "      <th>274904</th>\n",
       "      <td>NaN</td>\n",
       "      <td>0.619296</td>\n",
       "      <td>0.631355</td>\n",
       "      <td>0</td>\n",
       "    </tr>\n",
       "    <tr>\n",
       "      <th>18886</th>\n",
       "      <td>0.304421</td>\n",
       "      <td>0.374914</td>\n",
       "      <td>NaN</td>\n",
       "      <td>0</td>\n",
       "    </tr>\n",
       "    <tr>\n",
       "      <th>132753</th>\n",
       "      <td>NaN</td>\n",
       "      <td>0.415594</td>\n",
       "      <td>0.139376</td>\n",
       "      <td>0</td>\n",
       "    </tr>\n",
       "  </tbody>\n",
       "</table>\n",
       "<p>40000 rows × 4 columns</p>\n",
       "</div>"
      ],
      "text/plain": [
       "        EXT_SOURCE_1  EXT_SOURCE_2  EXT_SOURCE_3  TARGET\n",
       "133139           NaN      0.405187      0.372334       1\n",
       "289474           NaN      0.481396           NaN       1\n",
       "231829           NaN      0.266028      0.357293       1\n",
       "137855      0.335982      0.110994      0.499272       1\n",
       "290937           NaN      0.670619      0.427657       1\n",
       "...              ...           ...           ...     ...\n",
       "20494       0.625355      0.626707      0.553165       0\n",
       "201100           NaN      0.490321      0.452534       0\n",
       "274904           NaN      0.619296      0.631355       0\n",
       "18886       0.304421      0.374914           NaN       0\n",
       "132753           NaN      0.415594      0.139376       0\n",
       "\n",
       "[40000 rows x 4 columns]"
      ]
     },
     "execution_count": 33,
     "metadata": {},
     "output_type": "execute_result"
    }
   ],
   "source": [
    "lite[['EXT_SOURCE_1', 'EXT_SOURCE_2',\"EXT_SOURCE_3\", target]]"
   ]
  },
  {
   "cell_type": "markdown",
   "id": "2acb9d37",
   "metadata": {},
   "source": [
    "Посмотрим как соотносятся EXT_SOURCE и target"
   ]
  },
  {
   "cell_type": "code",
   "execution_count": 32,
   "id": "dc9fe494",
   "metadata": {
    "scrolled": true
   },
   "outputs": [
    {
     "name": "stdout",
     "output_type": "stream",
     "text": [
      "Fold full 0: roc_auc 0.7535820188881415\n",
      "Fold full 1: roc_auc 0.7451927706281072\n",
      "Fold full 2: roc_auc 0.740897440057104\n",
      "Fold full 3: roc_auc 0.7313612344798522\n",
      "Fold full 4: roc_auc 0.743415780902137\n",
      "roc average = 0.7428898489910684, std = 0.007166326750262817\n"
     ]
    }
   ],
   "source": [
    "comp_roc(lite[['EXT_SOURCE_1', 'EXT_SOURCE_2',\"EXT_SOURCE_3\", target]].dropna(), ['EXT_SOURCE_1', 'EXT_SOURCE_2',\"EXT_SOURCE_3\"])"
   ]
  },
  {
   "cell_type": "code",
   "execution_count": 19,
   "id": "fcdbe27d",
   "metadata": {
    "scrolled": true
   },
   "outputs": [
    {
     "ename": "ValueError",
     "evalue": "Input contains NaN, infinity or a value too large for dtype('float64').",
     "output_type": "error",
     "traceback": [
      "\u001b[0;31m---------------------------------------------------------------------------\u001b[0m",
      "\u001b[0;31mValueError\u001b[0m                                Traceback (most recent call last)",
      "\u001b[0;32m/tmp/ipykernel_151/236058147.py\u001b[0m in \u001b[0;36m<module>\u001b[0;34m\u001b[0m\n\u001b[0;32m----> 1\u001b[0;31m \u001b[0mpredict_n_write_csv\u001b[0m\u001b[0;34m(\u001b[0m\u001b[0;34m[\u001b[0m\u001b[0;34m'EXT_SOURCE_1'\u001b[0m\u001b[0;34m,\u001b[0m \u001b[0;34m'EXT_SOURCE_2'\u001b[0m\u001b[0;34m,\u001b[0m\u001b[0;34m\"EXT_SOURCE_3\"\u001b[0m\u001b[0;34m]\u001b[0m\u001b[0;34m,\u001b[0m \u001b[0;34m'all_ext_souce.csv'\u001b[0m\u001b[0;34m)\u001b[0m\u001b[0;34m\u001b[0m\u001b[0;34m\u001b[0m\u001b[0m\n\u001b[0m",
      "\u001b[0;32m/tmp/ipykernel_151/1283927913.py\u001b[0m in \u001b[0;36mpredict_n_write_csv\u001b[0;34m(features, path)\u001b[0m\n\u001b[1;32m      3\u001b[0m \u001b[0;34m\u001b[0m\u001b[0m\n\u001b[1;32m      4\u001b[0m     \u001b[0mmodel\u001b[0m \u001b[0;34m=\u001b[0m \u001b[0mLogisticRegression\u001b[0m\u001b[0;34m(\u001b[0m\u001b[0;34m)\u001b[0m\u001b[0;34m\u001b[0m\u001b[0;34m\u001b[0m\u001b[0m\n\u001b[0;32m----> 5\u001b[0;31m     \u001b[0mmodel\u001b[0m\u001b[0;34m.\u001b[0m\u001b[0mfit\u001b[0m\u001b[0;34m(\u001b[0m\u001b[0mX\u001b[0m\u001b[0;34m=\u001b[0m\u001b[0mtrain\u001b[0m\u001b[0;34m[\u001b[0m\u001b[0mfeatures\u001b[0m\u001b[0;34m]\u001b[0m\u001b[0;34m,\u001b[0m \u001b[0my\u001b[0m \u001b[0;34m=\u001b[0m \u001b[0mtrain\u001b[0m\u001b[0;34m[\u001b[0m\u001b[0mtarget\u001b[0m\u001b[0;34m]\u001b[0m\u001b[0;34m)\u001b[0m\u001b[0;34m\u001b[0m\u001b[0;34m\u001b[0m\u001b[0m\n\u001b[0m\u001b[1;32m      6\u001b[0m \u001b[0;34m\u001b[0m\u001b[0m\n\u001b[1;32m      7\u001b[0m     \u001b[0msample_submission\u001b[0m \u001b[0;34m=\u001b[0m \u001b[0mpd\u001b[0m\u001b[0;34m.\u001b[0m\u001b[0mread_csv\u001b[0m\u001b[0;34m(\u001b[0m\u001b[0;34m\"../data/raw/sample_submission.csv\"\u001b[0m\u001b[0;34m)\u001b[0m\u001b[0;34m\u001b[0m\u001b[0;34m\u001b[0m\u001b[0m\n",
      "\u001b[0;32m~/.local/lib/python3.8/site-packages/sklearn/linear_model/_logistic.py\u001b[0m in \u001b[0;36mfit\u001b[0;34m(self, X, y, sample_weight)\u001b[0m\n\u001b[1;32m   1506\u001b[0m             \u001b[0m_dtype\u001b[0m \u001b[0;34m=\u001b[0m \u001b[0;34m[\u001b[0m\u001b[0mnp\u001b[0m\u001b[0;34m.\u001b[0m\u001b[0mfloat64\u001b[0m\u001b[0;34m,\u001b[0m \u001b[0mnp\u001b[0m\u001b[0;34m.\u001b[0m\u001b[0mfloat32\u001b[0m\u001b[0;34m]\u001b[0m\u001b[0;34m\u001b[0m\u001b[0;34m\u001b[0m\u001b[0m\n\u001b[1;32m   1507\u001b[0m \u001b[0;34m\u001b[0m\u001b[0m\n\u001b[0;32m-> 1508\u001b[0;31m         X, y = self._validate_data(\n\u001b[0m\u001b[1;32m   1509\u001b[0m             \u001b[0mX\u001b[0m\u001b[0;34m,\u001b[0m\u001b[0;34m\u001b[0m\u001b[0;34m\u001b[0m\u001b[0m\n\u001b[1;32m   1510\u001b[0m             \u001b[0my\u001b[0m\u001b[0;34m,\u001b[0m\u001b[0;34m\u001b[0m\u001b[0;34m\u001b[0m\u001b[0m\n",
      "\u001b[0;32m~/.local/lib/python3.8/site-packages/sklearn/base.py\u001b[0m in \u001b[0;36m_validate_data\u001b[0;34m(self, X, y, reset, validate_separately, **check_params)\u001b[0m\n\u001b[1;32m    570\u001b[0m                 \u001b[0my\u001b[0m \u001b[0;34m=\u001b[0m \u001b[0mcheck_array\u001b[0m\u001b[0;34m(\u001b[0m\u001b[0my\u001b[0m\u001b[0;34m,\u001b[0m \u001b[0;34m**\u001b[0m\u001b[0mcheck_y_params\u001b[0m\u001b[0;34m)\u001b[0m\u001b[0;34m\u001b[0m\u001b[0;34m\u001b[0m\u001b[0m\n\u001b[1;32m    571\u001b[0m             \u001b[0;32melse\u001b[0m\u001b[0;34m:\u001b[0m\u001b[0;34m\u001b[0m\u001b[0;34m\u001b[0m\u001b[0m\n\u001b[0;32m--> 572\u001b[0;31m                 \u001b[0mX\u001b[0m\u001b[0;34m,\u001b[0m \u001b[0my\u001b[0m \u001b[0;34m=\u001b[0m \u001b[0mcheck_X_y\u001b[0m\u001b[0;34m(\u001b[0m\u001b[0mX\u001b[0m\u001b[0;34m,\u001b[0m \u001b[0my\u001b[0m\u001b[0;34m,\u001b[0m \u001b[0;34m**\u001b[0m\u001b[0mcheck_params\u001b[0m\u001b[0;34m)\u001b[0m\u001b[0;34m\u001b[0m\u001b[0;34m\u001b[0m\u001b[0m\n\u001b[0m\u001b[1;32m    573\u001b[0m             \u001b[0mout\u001b[0m \u001b[0;34m=\u001b[0m \u001b[0mX\u001b[0m\u001b[0;34m,\u001b[0m \u001b[0my\u001b[0m\u001b[0;34m\u001b[0m\u001b[0;34m\u001b[0m\u001b[0m\n\u001b[1;32m    574\u001b[0m \u001b[0;34m\u001b[0m\u001b[0m\n",
      "\u001b[0;32m~/.local/lib/python3.8/site-packages/sklearn/utils/validation.py\u001b[0m in \u001b[0;36mcheck_X_y\u001b[0;34m(X, y, accept_sparse, accept_large_sparse, dtype, order, copy, force_all_finite, ensure_2d, allow_nd, multi_output, ensure_min_samples, ensure_min_features, y_numeric, estimator)\u001b[0m\n\u001b[1;32m    954\u001b[0m         \u001b[0;32mraise\u001b[0m \u001b[0mValueError\u001b[0m\u001b[0;34m(\u001b[0m\u001b[0;34m\"y cannot be None\"\u001b[0m\u001b[0;34m)\u001b[0m\u001b[0;34m\u001b[0m\u001b[0;34m\u001b[0m\u001b[0m\n\u001b[1;32m    955\u001b[0m \u001b[0;34m\u001b[0m\u001b[0m\n\u001b[0;32m--> 956\u001b[0;31m     X = check_array(\n\u001b[0m\u001b[1;32m    957\u001b[0m         \u001b[0mX\u001b[0m\u001b[0;34m,\u001b[0m\u001b[0;34m\u001b[0m\u001b[0;34m\u001b[0m\u001b[0m\n\u001b[1;32m    958\u001b[0m         \u001b[0maccept_sparse\u001b[0m\u001b[0;34m=\u001b[0m\u001b[0maccept_sparse\u001b[0m\u001b[0;34m,\u001b[0m\u001b[0;34m\u001b[0m\u001b[0;34m\u001b[0m\u001b[0m\n",
      "\u001b[0;32m~/.local/lib/python3.8/site-packages/sklearn/utils/validation.py\u001b[0m in \u001b[0;36mcheck_array\u001b[0;34m(array, accept_sparse, accept_large_sparse, dtype, order, copy, force_all_finite, ensure_2d, allow_nd, ensure_min_samples, ensure_min_features, estimator)\u001b[0m\n\u001b[1;32m    790\u001b[0m \u001b[0;34m\u001b[0m\u001b[0m\n\u001b[1;32m    791\u001b[0m         \u001b[0;32mif\u001b[0m \u001b[0mforce_all_finite\u001b[0m\u001b[0;34m:\u001b[0m\u001b[0;34m\u001b[0m\u001b[0;34m\u001b[0m\u001b[0m\n\u001b[0;32m--> 792\u001b[0;31m             \u001b[0m_assert_all_finite\u001b[0m\u001b[0;34m(\u001b[0m\u001b[0marray\u001b[0m\u001b[0;34m,\u001b[0m \u001b[0mallow_nan\u001b[0m\u001b[0;34m=\u001b[0m\u001b[0mforce_all_finite\u001b[0m \u001b[0;34m==\u001b[0m \u001b[0;34m\"allow-nan\"\u001b[0m\u001b[0;34m)\u001b[0m\u001b[0;34m\u001b[0m\u001b[0;34m\u001b[0m\u001b[0m\n\u001b[0m\u001b[1;32m    793\u001b[0m \u001b[0;34m\u001b[0m\u001b[0m\n\u001b[1;32m    794\u001b[0m     \u001b[0;32mif\u001b[0m \u001b[0mensure_min_samples\u001b[0m \u001b[0;34m>\u001b[0m \u001b[0;36m0\u001b[0m\u001b[0;34m:\u001b[0m\u001b[0;34m\u001b[0m\u001b[0;34m\u001b[0m\u001b[0m\n",
      "\u001b[0;32m~/.local/lib/python3.8/site-packages/sklearn/utils/validation.py\u001b[0m in \u001b[0;36m_assert_all_finite\u001b[0;34m(X, allow_nan, msg_dtype)\u001b[0m\n\u001b[1;32m    112\u001b[0m         ):\n\u001b[1;32m    113\u001b[0m             \u001b[0mtype_err\u001b[0m \u001b[0;34m=\u001b[0m \u001b[0;34m\"infinity\"\u001b[0m \u001b[0;32mif\u001b[0m \u001b[0mallow_nan\u001b[0m \u001b[0;32melse\u001b[0m \u001b[0;34m\"NaN, infinity\"\u001b[0m\u001b[0;34m\u001b[0m\u001b[0;34m\u001b[0m\u001b[0m\n\u001b[0;32m--> 114\u001b[0;31m             raise ValueError(\n\u001b[0m\u001b[1;32m    115\u001b[0m                 msg_err.format(\n\u001b[1;32m    116\u001b[0m                     \u001b[0mtype_err\u001b[0m\u001b[0;34m,\u001b[0m \u001b[0mmsg_dtype\u001b[0m \u001b[0;32mif\u001b[0m \u001b[0mmsg_dtype\u001b[0m \u001b[0;32mis\u001b[0m \u001b[0;32mnot\u001b[0m \u001b[0;32mNone\u001b[0m \u001b[0;32melse\u001b[0m \u001b[0mX\u001b[0m\u001b[0;34m.\u001b[0m\u001b[0mdtype\u001b[0m\u001b[0;34m\u001b[0m\u001b[0;34m\u001b[0m\u001b[0m\n",
      "\u001b[0;31mValueError\u001b[0m: Input contains NaN, infinity or a value too large for dtype('float64')."
     ]
    }
   ],
   "source": [
    "predict_n_write_csv(['EXT_SOURCE_1', 'EXT_SOURCE_2',\"EXT_SOURCE_3\"], 'all_ext_souce.csv')"
   ]
  },
  {
   "cell_type": "markdown",
   "id": "48db167b",
   "metadata": {},
   "source": [
    "Увы есть пропуски, попробуем вычислсить."
   ]
  },
  {
   "cell_type": "code",
   "execution_count": 79,
   "id": "f06b333e",
   "metadata": {},
   "outputs": [
    {
     "name": "stdout",
     "output_type": "stream",
     "text": [
      "Fold full 0: msle 0.02096066409388201, mse 0.04252253323409706\n",
      "Fold full 1: msle 0.020866786047876975, mse 0.04267652518380931\n",
      "Fold full 2: msle 0.020160541840401672, mse 0.04179879761141203\n",
      "Fold full 3: msle 0.020979031810559746, mse 0.04313284735886135\n",
      "Fold full 4: msle 0.02002594138254017, mse 0.04098056941109968\n",
      "MSLE average = 0.020598593035052112, std = 0.0004165514061768037\n"
     ]
    }
   ],
   "source": [
    "comp_mse(lite[flags + ['EXT_SOURCE_1']].dropna(), flags, 'EXT_SOURCE_1')"
   ]
  },
  {
   "cell_type": "markdown",
   "id": "dac19e56",
   "metadata": {},
   "source": [
    "### Кажется подбор $\\pm$ успешен"
   ]
  },
  {
   "cell_type": "code",
   "execution_count": 180,
   "id": "5750dfa5",
   "metadata": {},
   "outputs": [],
   "source": [
    "def fillna_with_model(df, model, features, target):\n",
    "    df[target] = np.where(df[target].isna(), model.predict(df[features]), df[target])"
   ]
  },
  {
   "cell_type": "code",
   "execution_count": 190,
   "id": "cf8a6e20",
   "metadata": {},
   "outputs": [],
   "source": [
    "def fillna_EXT_SOURCE():\n",
    "    model = SGDRegressor()\n",
    "    target = 'EXT_SOURCE_1'\n",
    "    part = train[flags + [target]].dropna()\n",
    "    model.fit(X=part[flags], y=part[target])\n",
    "    fillna_with_model(train, model, flags, target)\n",
    "    fillna_with_model(test, model, flags, target)\n",
    "    \n",
    "    target = 'EXT_SOURCE_2'\n",
    "    model = SGDRegressor()\n",
    "    part =train[flags + [target]].dropna()\n",
    "    model.fit(X=part[flags], y=part[target])\n",
    "    fillna_with_model(train, model, flags, target) \n",
    "    fillna_with_model(test, model, flags, target)\n",
    "    \n",
    "    target = 'EXT_SOURCE_3'\n",
    "    model = SGDRegressor()\n",
    "    part = train[flags + [target]].dropna()\n",
    "    model.fit(X=part[flags], y=part[target])\n",
    "    fillna_with_model(train, model, flags, target)\n",
    "    fillna_with_model(test, model, flags, target)"
   ]
  },
  {
   "cell_type": "code",
   "execution_count": 191,
   "id": "f3d90454",
   "metadata": {},
   "outputs": [],
   "source": [
    "fillna_EXT_SOURCE()"
   ]
  },
  {
   "cell_type": "code",
   "execution_count": 183,
   "id": "ac85a10c",
   "metadata": {},
   "outputs": [
    {
     "name": "stdout",
     "output_type": "stream",
     "text": [
      "Fold full 0: roc_auc 0.7112418502082236\n",
      "Fold full 1: roc_auc 0.7126698817554453\n",
      "Fold full 2: roc_auc 0.7242850226707869\n",
      "Fold full 3: roc_auc 0.7176454357725734\n",
      "Fold full 4: roc_auc 0.7121437445511856\n",
      "roc average = 0.715597186991643, std = 0.004881355364830903\n"
     ]
    }
   ],
   "source": [
    "comp_roc(train[['EXT_SOURCE_1', 'EXT_SOURCE_2',\"EXT_SOURCE_3\", target]].dropna(), ['EXT_SOURCE_1', 'EXT_SOURCE_2',\"EXT_SOURCE_3\"])"
   ]
  },
  {
   "cell_type": "markdown",
   "id": "b681522f",
   "metadata": {},
   "source": [
    "## Private\n",
    "0.49998\n",
    "## Public\n",
    "0.50072\n",
    "\n"
   ]
  },
  {
   "cell_type": "code",
   "execution_count": 192,
   "id": "8057219d",
   "metadata": {},
   "outputs": [],
   "source": [
    "predict_n_write_csv(['EXT_SOURCE_1', 'EXT_SOURCE_2',\"EXT_SOURCE_3\"], 'all_ext_souce.csv')"
   ]
  },
  {
   "cell_type": "markdown",
   "id": "bd1f9aab",
   "metadata": {},
   "source": [
    "Попробуем ещё вариант с EXT_SOURC"
   ]
  },
  {
   "cell_type": "code",
   "execution_count": 193,
   "id": "acc33e06",
   "metadata": {},
   "outputs": [
    {
     "name": "stdout",
     "output_type": "stream",
     "text": [
      "Fold full 0: roc_auc 0.5451834710607748\n",
      "Fold full 1: roc_auc 0.5481188149114582\n",
      "Fold full 2: roc_auc 0.5438331562668351\n",
      "Fold full 3: roc_auc 0.5429242603520854\n",
      "Fold full 4: roc_auc 0.5521660285309793\n",
      "roc average = 0.5464451462244266, std = 0.0033568024762432444\n",
      "Fold full 0: roc_auc 0.6513946930737677\n",
      "Fold full 1: roc_auc 0.6529431195483466\n",
      "Fold full 2: roc_auc 0.6630523383834548\n",
      "Fold full 3: roc_auc 0.6571530028870939\n",
      "Fold full 4: roc_auc 0.6551613053587352\n",
      "roc average = 0.6559408918502797, std = 0.004057196129037133\n",
      "Fold full 0: roc_auc 0.6575766424444816\n",
      "Fold full 1: roc_auc 0.6578959104863135\n",
      "Fold full 2: roc_auc 0.6506894330641926\n",
      "Fold full 3: roc_auc 0.6545250129009166\n",
      "Fold full 4: roc_auc 0.6623883248254908\n",
      "roc average = 0.656615064744279, std = 0.0038827092852727193\n"
     ]
    }
   ],
   "source": [
    "comp_roc(train[['EXT_SOURCE_1', 'EXT_SOURCE_2',\"EXT_SOURCE_3\", target]].dropna(), ['EXT_SOURCE_1'])\n",
    "comp_roc(train[['EXT_SOURCE_1', 'EXT_SOURCE_2',\"EXT_SOURCE_3\", target]].dropna(), ['EXT_SOURCE_2'])\n",
    "comp_roc(train[['EXT_SOURCE_1', 'EXT_SOURCE_2',\"EXT_SOURCE_3\", target]].dropna(), ['EXT_SOURCE_3'])"
   ]
  },
  {
   "cell_type": "code",
   "execution_count": 240,
   "id": "8fa227a9",
   "metadata": {},
   "outputs": [],
   "source": [
    "def predict_by_one(df, feature, df2):\n",
    "    model = LogisticRegression()\n",
    "    \n",
    "    model.fit(X=df[feature], y=df[target])\n",
    "    predictation = feature[0] + '_predict'\n",
    "    df[predictation] = model.predict(df[feature])\n",
    "    df2[predictation] = model.predict(df2[feature])"
   ]
  },
  {
   "cell_type": "code",
   "execution_count": 241,
   "id": "56e44f25",
   "metadata": {},
   "outputs": [],
   "source": [
    "predict_by_one(train, ['EXT_SOURCE_1'],test)\n",
    "predict_by_one(train, ['EXT_SOURCE_2'],test)\n",
    "predict_by_one(train, ['EXT_SOURCE_3'],test)"
   ]
  },
  {
   "cell_type": "code",
   "execution_count": 233,
   "id": "0c6d7672",
   "metadata": {
    "scrolled": true
   },
   "outputs": [
    {
     "name": "stdout",
     "output_type": "stream",
     "text": [
      "Fold full 0: roc_auc 0.5\n",
      "Fold full 1: roc_auc 0.5\n",
      "Fold full 2: roc_auc 0.5\n",
      "Fold full 3: roc_auc 0.5\n",
      "Fold full 4: roc_auc 0.5\n",
      "roc average = 0.5, std = 0.0\n"
     ]
    }
   ],
   "source": [
    "comp_roc(train[['EXT_SOURCE_1_predict', 'EXT_SOURCE_2_predict',\"EXT_SOURCE_3_predict\", target]].dropna(), ['EXT_SOURCE_1_predict', 'EXT_SOURCE_2_predict',\"EXT_SOURCE_3_predict\"])"
   ]
  },
  {
   "cell_type": "markdown",
   "id": "6adced14",
   "metadata": {},
   "source": [
    "### Private\n",
    "0.50000\n",
    "\n",
    "### Public\n",
    "0.50000\n",
    "\n",
    "Похоже на ошибку, но я пока не понял"
   ]
  },
  {
   "cell_type": "code",
   "execution_count": 274,
   "id": "b1b01c9b",
   "metadata": {},
   "outputs": [],
   "source": [
    "predict_n_write_csv(['EXT_SOURCE_1_predict', 'EXT_SOURCE_2_predict',\"EXT_SOURCE_3_predict\"], 'all_ext_souce_plus.csv')"
   ]
  },
  {
   "cell_type": "markdown",
   "id": "fa7df97c",
   "metadata": {},
   "source": [
    "Раз мы можем получить из флагов EXT_SOURCE, значит из них можжем получить и финальный результат:"
   ]
  },
  {
   "cell_type": "code",
   "execution_count": 243,
   "id": "ecf7ab1c",
   "metadata": {},
   "outputs": [
    {
     "name": "stdout",
     "output_type": "stream",
     "text": [
      "Fold full 0: roc_auc 0.5678522474258474\n",
      "Fold full 1: roc_auc 0.5689888681945905\n",
      "Fold full 2: roc_auc 0.5724018391184615\n",
      "Fold full 3: roc_auc 0.5711665895741147\n",
      "Fold full 4: roc_auc 0.572526733401355\n",
      "roc average = 0.5705872555428738, std = 0.0018668169353976726\n"
     ]
    }
   ],
   "source": [
    "comp_roc(train[flags + [target]].dropna(), flags)"
   ]
  },
  {
   "cell_type": "markdown",
   "id": "0ea049bb",
   "metadata": {},
   "source": [
    "Ерунда какая-то:\n",
    "### Private\n",
    "0.50000\n",
    "\n",
    "### Public\n",
    "0.50000"
   ]
  },
  {
   "cell_type": "code",
   "execution_count": 244,
   "id": "b1f25878",
   "metadata": {},
   "outputs": [],
   "source": [
    "predict_n_write_csv(flags, 'just_fkags.csv')"
   ]
  },
  {
   "cell_type": "markdown",
   "id": "899b482d",
   "metadata": {},
   "source": [
    "Попробую добваить новый флаг"
   ]
  },
  {
   "cell_type": "code",
   "execution_count": 247,
   "id": "b0579fb9",
   "metadata": {},
   "outputs": [],
   "source": [
    "lite[\"have_big_credit\"] = lite['AMT_CREDIT_SUM'] > lite['AMT_GOODS_PRICE']\n",
    "lite[\"have_big_credit\"] = np.where(lite[\"have_big_credit\"], 1, 0)"
   ]
  },
  {
   "cell_type": "code",
   "execution_count": 253,
   "id": "8c73bb83",
   "metadata": {},
   "outputs": [
    {
     "name": "stdout",
     "output_type": "stream",
     "text": [
      "Fold full 0: roc_auc 0.5716186614893572\n",
      "Fold full 1: roc_auc 0.5694195694195694\n",
      "Fold full 2: roc_auc 0.5752460447863479\n",
      "Fold full 3: roc_auc 0.5717554889727208\n",
      "Fold full 4: roc_auc 0.5719491998206022\n",
      "roc average = 0.5719977928977195, std = 0.001865646790755559\n"
     ]
    }
   ],
   "source": [
    "comp_roc(lite[flags + [target, 'have_big_credit']].dropna(), flags)"
   ]
  },
  {
   "cell_type": "markdown",
   "id": "7db1b93e",
   "metadata": {},
   "source": [
    "### Private\n",
    "0.50000\n",
    "\n",
    "### Public\n",
    "0.50000"
   ]
  },
  {
   "cell_type": "code",
   "execution_count": 264,
   "id": "7dae2827",
   "metadata": {},
   "outputs": [],
   "source": [
    "# test=test.join(pd.read_csv(\"../data/raw/bureau.csv\"), on='SK_ID_CURR', how='inner', rsuffix='_b')\n",
    "train=train.join(pd.read_csv(\"../data/raw/bureau.csv\"), on='SK_ID_CURR', how='inner', rsuffix='_b')\n"
   ]
  },
  {
   "cell_type": "code",
   "execution_count": 265,
   "id": "1a39e6f4",
   "metadata": {},
   "outputs": [],
   "source": [
    "train[\"have_big_credit\"] = train['AMT_CREDIT_SUM'] > train['AMT_GOODS_PRICE']\n",
    "train[\"have_big_credit\"] = np.where(train[\"have_big_credit\"], 1, 0)\n",
    "\n",
    "test[\"have_big_credit\"] = test['AMT_CREDIT_SUM'] > test['AMT_GOODS_PRICE']\n",
    "test[\"have_big_credit\"] = np.where(test[\"have_big_credit\"], 1, 0)"
   ]
  },
  {
   "cell_type": "code",
   "execution_count": 262,
   "id": "65d312db",
   "metadata": {
    "collapsed": true
   },
   "outputs": [
    {
     "data": {
      "text/plain": [
       "['FLAG_MOBIL',\n",
       " 'FLAG_EMP_PHONE',\n",
       " 'FLAG_CONT_MOBILE',\n",
       " 'FLAG_EMAIL',\n",
       " 'REG_REGION_NOT_WORK_REGION',\n",
       " 'LIVE_REGION_NOT_WORK_REGION',\n",
       " 'REG_CITY_NOT_LIVE_CITY',\n",
       " 'REG_CITY_NOT_WORK_CITY',\n",
       " 'FLAG_OWN_REALTY',\n",
       " 'FLAG_OWN_CAR',\n",
       " 'have_big_credit']"
      ]
     },
     "execution_count": 262,
     "metadata": {},
     "output_type": "execute_result"
    }
   ],
   "source": [
    "flags.append('have_big_credit')"
   ]
  },
  {
   "cell_type": "code",
   "execution_count": 263,
   "id": "e13ce148",
   "metadata": {},
   "outputs": [
    {
     "data": {
      "text/html": [
       "<div>\n",
       "<style scoped>\n",
       "    .dataframe tbody tr th:only-of-type {\n",
       "        vertical-align: middle;\n",
       "    }\n",
       "\n",
       "    .dataframe tbody tr th {\n",
       "        vertical-align: top;\n",
       "    }\n",
       "\n",
       "    .dataframe thead th {\n",
       "        text-align: right;\n",
       "    }\n",
       "</style>\n",
       "<table border=\"1\" class=\"dataframe\">\n",
       "  <thead>\n",
       "    <tr style=\"text-align: right;\">\n",
       "      <th></th>\n",
       "      <th>FLAG_MOBIL</th>\n",
       "      <th>FLAG_EMP_PHONE</th>\n",
       "      <th>FLAG_CONT_MOBILE</th>\n",
       "      <th>FLAG_EMAIL</th>\n",
       "      <th>REG_REGION_NOT_WORK_REGION</th>\n",
       "      <th>LIVE_REGION_NOT_WORK_REGION</th>\n",
       "      <th>REG_CITY_NOT_LIVE_CITY</th>\n",
       "      <th>REG_CITY_NOT_WORK_CITY</th>\n",
       "      <th>FLAG_OWN_REALTY</th>\n",
       "      <th>FLAG_OWN_CAR</th>\n",
       "      <th>have_big_credit</th>\n",
       "    </tr>\n",
       "  </thead>\n",
       "  <tbody>\n",
       "    <tr>\n",
       "      <th>0</th>\n",
       "      <td>1</td>\n",
       "      <td>1</td>\n",
       "      <td>1</td>\n",
       "      <td>1</td>\n",
       "      <td>0</td>\n",
       "      <td>0</td>\n",
       "      <td>0</td>\n",
       "      <td>0</td>\n",
       "      <td>1</td>\n",
       "      <td>0</td>\n",
       "      <td>1</td>\n",
       "    </tr>\n",
       "    <tr>\n",
       "      <th>1</th>\n",
       "      <td>1</td>\n",
       "      <td>1</td>\n",
       "      <td>1</td>\n",
       "      <td>0</td>\n",
       "      <td>0</td>\n",
       "      <td>0</td>\n",
       "      <td>0</td>\n",
       "      <td>0</td>\n",
       "      <td>1</td>\n",
       "      <td>0</td>\n",
       "      <td>1</td>\n",
       "    </tr>\n",
       "    <tr>\n",
       "      <th>2</th>\n",
       "      <td>1</td>\n",
       "      <td>1</td>\n",
       "      <td>1</td>\n",
       "      <td>0</td>\n",
       "      <td>0</td>\n",
       "      <td>0</td>\n",
       "      <td>0</td>\n",
       "      <td>0</td>\n",
       "      <td>1</td>\n",
       "      <td>1</td>\n",
       "      <td>0</td>\n",
       "    </tr>\n",
       "    <tr>\n",
       "      <th>3</th>\n",
       "      <td>1</td>\n",
       "      <td>1</td>\n",
       "      <td>1</td>\n",
       "      <td>0</td>\n",
       "      <td>0</td>\n",
       "      <td>0</td>\n",
       "      <td>0</td>\n",
       "      <td>0</td>\n",
       "      <td>1</td>\n",
       "      <td>0</td>\n",
       "      <td>0</td>\n",
       "    </tr>\n",
       "    <tr>\n",
       "      <th>4</th>\n",
       "      <td>1</td>\n",
       "      <td>1</td>\n",
       "      <td>1</td>\n",
       "      <td>0</td>\n",
       "      <td>0</td>\n",
       "      <td>0</td>\n",
       "      <td>0</td>\n",
       "      <td>1</td>\n",
       "      <td>0</td>\n",
       "      <td>1</td>\n",
       "      <td>0</td>\n",
       "    </tr>\n",
       "    <tr>\n",
       "      <th>...</th>\n",
       "      <td>...</td>\n",
       "      <td>...</td>\n",
       "      <td>...</td>\n",
       "      <td>...</td>\n",
       "      <td>...</td>\n",
       "      <td>...</td>\n",
       "      <td>...</td>\n",
       "      <td>...</td>\n",
       "      <td>...</td>\n",
       "      <td>...</td>\n",
       "      <td>...</td>\n",
       "    </tr>\n",
       "    <tr>\n",
       "      <th>48739</th>\n",
       "      <td>1</td>\n",
       "      <td>1</td>\n",
       "      <td>1</td>\n",
       "      <td>0</td>\n",
       "      <td>0</td>\n",
       "      <td>0</td>\n",
       "      <td>0</td>\n",
       "      <td>0</td>\n",
       "      <td>1</td>\n",
       "      <td>0</td>\n",
       "      <td>1</td>\n",
       "    </tr>\n",
       "    <tr>\n",
       "      <th>48740</th>\n",
       "      <td>1</td>\n",
       "      <td>1</td>\n",
       "      <td>1</td>\n",
       "      <td>0</td>\n",
       "      <td>0</td>\n",
       "      <td>0</td>\n",
       "      <td>0</td>\n",
       "      <td>1</td>\n",
       "      <td>0</td>\n",
       "      <td>0</td>\n",
       "      <td>1</td>\n",
       "    </tr>\n",
       "    <tr>\n",
       "      <th>48741</th>\n",
       "      <td>1</td>\n",
       "      <td>1</td>\n",
       "      <td>1</td>\n",
       "      <td>0</td>\n",
       "      <td>0</td>\n",
       "      <td>0</td>\n",
       "      <td>0</td>\n",
       "      <td>0</td>\n",
       "      <td>1</td>\n",
       "      <td>1</td>\n",
       "      <td>0</td>\n",
       "    </tr>\n",
       "    <tr>\n",
       "      <th>48742</th>\n",
       "      <td>1</td>\n",
       "      <td>1</td>\n",
       "      <td>1</td>\n",
       "      <td>0</td>\n",
       "      <td>1</td>\n",
       "      <td>1</td>\n",
       "      <td>0</td>\n",
       "      <td>1</td>\n",
       "      <td>0</td>\n",
       "      <td>0</td>\n",
       "      <td>0</td>\n",
       "    </tr>\n",
       "    <tr>\n",
       "      <th>48743</th>\n",
       "      <td>1</td>\n",
       "      <td>1</td>\n",
       "      <td>1</td>\n",
       "      <td>0</td>\n",
       "      <td>0</td>\n",
       "      <td>0</td>\n",
       "      <td>0</td>\n",
       "      <td>0</td>\n",
       "      <td>0</td>\n",
       "      <td>1</td>\n",
       "      <td>1</td>\n",
       "    </tr>\n",
       "  </tbody>\n",
       "</table>\n",
       "<p>48744 rows × 11 columns</p>\n",
       "</div>"
      ],
      "text/plain": [
       "       FLAG_MOBIL  FLAG_EMP_PHONE  FLAG_CONT_MOBILE  FLAG_EMAIL  \\\n",
       "0               1               1                 1           1   \n",
       "1               1               1                 1           0   \n",
       "2               1               1                 1           0   \n",
       "3               1               1                 1           0   \n",
       "4               1               1                 1           0   \n",
       "...           ...             ...               ...         ...   \n",
       "48739           1               1                 1           0   \n",
       "48740           1               1                 1           0   \n",
       "48741           1               1                 1           0   \n",
       "48742           1               1                 1           0   \n",
       "48743           1               1                 1           0   \n",
       "\n",
       "       REG_REGION_NOT_WORK_REGION  LIVE_REGION_NOT_WORK_REGION  \\\n",
       "0                               0                            0   \n",
       "1                               0                            0   \n",
       "2                               0                            0   \n",
       "3                               0                            0   \n",
       "4                               0                            0   \n",
       "...                           ...                          ...   \n",
       "48739                           0                            0   \n",
       "48740                           0                            0   \n",
       "48741                           0                            0   \n",
       "48742                           1                            1   \n",
       "48743                           0                            0   \n",
       "\n",
       "       REG_CITY_NOT_LIVE_CITY  REG_CITY_NOT_WORK_CITY  FLAG_OWN_REALTY  \\\n",
       "0                           0                       0                1   \n",
       "1                           0                       0                1   \n",
       "2                           0                       0                1   \n",
       "3                           0                       0                1   \n",
       "4                           0                       1                0   \n",
       "...                       ...                     ...              ...   \n",
       "48739                       0                       0                1   \n",
       "48740                       0                       1                0   \n",
       "48741                       0                       0                1   \n",
       "48742                       0                       1                0   \n",
       "48743                       0                       0                0   \n",
       "\n",
       "       FLAG_OWN_CAR  have_big_credit  \n",
       "0                 0                1  \n",
       "1                 0                1  \n",
       "2                 1                0  \n",
       "3                 0                0  \n",
       "4                 1                0  \n",
       "...             ...              ...  \n",
       "48739             0                1  \n",
       "48740             0                1  \n",
       "48741             1                0  \n",
       "48742             0                0  \n",
       "48743             1                1  \n",
       "\n",
       "[48744 rows x 11 columns]"
      ]
     },
     "execution_count": 263,
     "metadata": {},
     "output_type": "execute_result"
    }
   ],
   "source": [
    "test[flags]"
   ]
  },
  {
   "cell_type": "code",
   "execution_count": 266,
   "id": "31c6cb3e",
   "metadata": {},
   "outputs": [],
   "source": [
    "predict_n_write_csv(flags, 'just_flags_plus.csv')"
   ]
  },
  {
   "cell_type": "markdown",
   "id": "675fb258",
   "metadata": {},
   "source": [
    "Выходной scor повторяется и я попробую что-то испортить, чтобы понять, не сломалась ли кегля"
   ]
  },
  {
   "cell_type": "code",
   "execution_count": 268,
   "id": "ca39586c",
   "metadata": {},
   "outputs": [],
   "source": [
    "def count_docs(df):\n",
    "    df['DOCUMENT_FLAGS_COUNT'] = df['FLAG_DOCUMENT_2'] + df['FLAG_DOCUMENT_3'] + df['FLAG_DOCUMENT_4'] + df['FLAG_DOCUMENT_5'] + df['FLAG_DOCUMENT_6'] + df['FLAG_DOCUMENT_7'] + df['FLAG_DOCUMENT_8'] + df['FLAG_DOCUMENT_9'] + df['FLAG_DOCUMENT_10'] + df['FLAG_DOCUMENT_11'] + df['FLAG_DOCUMENT_12'] + df['FLAG_DOCUMENT_13'] + df['FLAG_DOCUMENT_14'] + df['FLAG_DOCUMENT_15'] + df['FLAG_DOCUMENT_16'] + df['FLAG_DOCUMENT_17'] + df['FLAG_DOCUMENT_18'] + df['FLAG_DOCUMENT_19'] + df['FLAG_DOCUMENT_20'] + df['FLAG_DOCUMENT_21']"
   ]
  },
  {
   "cell_type": "code",
   "execution_count": 272,
   "id": "9483751b",
   "metadata": {},
   "outputs": [],
   "source": [
    "count_docs(train)\n",
    "count_docs(test)"
   ]
  },
  {
   "cell_type": "code",
   "execution_count": 271,
   "id": "418b04f2",
   "metadata": {},
   "outputs": [
    {
     "name": "stdout",
     "output_type": "stream",
     "text": [
      "Fold full 0: roc_auc 0.5712414854940149\n",
      "Fold full 1: roc_auc 0.573990204799666\n",
      "Fold full 2: roc_auc 0.5781153541316969\n",
      "Fold full 3: roc_auc 0.575047968897403\n",
      "Fold full 4: roc_auc 0.5740440558566741\n",
      "roc average = 0.5744878138358909, std = 0.002211606017850045\n"
     ]
    }
   ],
   "source": [
    "comp_roc(train[flags + [\"DOCUMENT_FLAGS_COUNT\", target]], flags + ['DOCUMENT_FLAGS_COUNT'])"
   ]
  },
  {
   "cell_type": "markdown",
   "id": "e836d168",
   "metadata": {},
   "source": [
    "### Private\n",
    "0.50000\n",
    "\n",
    "### Public\n",
    "0.50000"
   ]
  },
  {
   "cell_type": "code",
   "execution_count": 280,
   "id": "ac083035",
   "metadata": {},
   "outputs": [],
   "source": [
    "predict_n_write_csv(flags + ['DOCUMENT_FLAGS_COUNT'], 'flags_docs.csv')"
   ]
  },
  {
   "cell_type": "code",
   "execution_count": 278,
   "id": "be677473",
   "metadata": {},
   "outputs": [
    {
     "name": "stdout",
     "output_type": "stream",
     "text": [
      "Fold full 0: roc_auc 0.5186219008038513\n",
      "Fold full 1: roc_auc 0.5154944187650218\n",
      "Fold full 2: roc_auc 0.5157869517304228\n",
      "Fold full 3: roc_auc 0.5214029429053113\n",
      "Fold full 4: roc_auc 0.5164069581586329\n",
      "roc average = 0.517542634472648, std = 0.0022196471420245886\n"
     ]
    }
   ],
   "source": [
    "comp_roc(train[flags + [\"DOCUMENT_FLAGS_COUNT\", 'AMT_INCOME_TOTAL', target]].fillna(0), flags + ['DOCUMENT_FLAGS_COUNT', 'AMT_INCOME_TOTAL'])"
   ]
  },
  {
   "cell_type": "code",
   "execution_count": 281,
   "id": "fb55d097",
   "metadata": {},
   "outputs": [],
   "source": [
    "predict_n_write_csv(flags + ['DOCUMENT_FLAGS_COUNT', 'AMT_INCOME_TOTAL'], 'flags_docs_money.csv')"
   ]
  },
  {
   "attachments": {
    "image.png": {
     "image/png": "[encoded data removed]"
    }
   },
   "cell_type": "markdown",
   "id": "0d140829",
   "metadata": {},
   "source": [
    "![image.png](attachment:image.png)"
   ]
  },
  {
   "cell_type": "code",
   "execution_count": 298,
   "id": "b6f1326b",
   "metadata": {},
   "outputs": [
    {
     "name": "stdout",
     "output_type": "stream",
     "text": [
      "Fold full 0: roc_auc 0.5890975625395503\n",
      "Fold full 1: roc_auc 0.6009742634073062\n",
      "Fold full 2: roc_auc 0.5914323094627216\n"
     ]
    },
    {
     "name": "stderr",
     "output_type": "stream",
     "text": [
      "/home/andru/.local/lib/python3.8/site-packages/sklearn/linear_model/_logistic.py:814: ConvergenceWarning: lbfgs failed to converge (status=1):\n",
      "STOP: TOTAL NO. of ITERATIONS REACHED LIMIT.\n",
      "\n",
      "Increase the number of iterations (max_iter) or scale the data as shown in:\n",
      "    https://scikit-learn.org/stable/modules/preprocessing.html\n",
      "Please also refer to the documentation for alternative solver options:\n",
      "    https://scikit-learn.org/stable/modules/linear_model.html#logistic-regression\n",
      "  n_iter_i = _check_optimize_result(\n"
     ]
    },
    {
     "name": "stdout",
     "output_type": "stream",
     "text": [
      "Fold full 3: roc_auc 0.5885129905308993\n",
      "Fold full 4: roc_auc 0.5920979341274757\n",
      "roc average = 0.5924230120135906, std = 0.004484594736971548\n"
     ]
    }
   ],
   "source": [
    "flags = [\"FLAG_MOBIL\", \"FLAG_EMP_PHONE\", \"FLAG_CONT_MOBILE\", \"FLAG_EMAIL\", \"REG_REGION_NOT_WORK_REGION\",\n",
    "         \"DAYS_LAST_PHONE_CHANGE\", 'REG_REGION_NOT_LIVE_REGION','REG_REGION_NOT_WORK_REGION',\n",
    "         'LIVE_REGION_NOT_WORK_REGION', 'REG_CITY_NOT_LIVE_CITY','REG_CITY_NOT_WORK_CITY',\n",
    "            'FLAG_OWN_REALTY', 'FLAG_OWN_CAR']\n",
    "comp_roc(train[flags + [target]].fillna(0), flags)"
   ]
  },
  {
   "cell_type": "code",
   "execution_count": 296,
   "id": "0f9fc718",
   "metadata": {},
   "outputs": [
    {
     "name": "stdout",
     "output_type": "stream",
     "text": [
      "Fold full 0: roc_auc 0.5928844063386283\n",
      "Fold full 1: roc_auc 0.5891603268130106\n",
      "Fold full 2: roc_auc 0.5996874135676012\n",
      "Fold full 3: roc_auc 0.5809530809944272\n",
      "Fold full 4: roc_auc 0.5917371772334857\n",
      "roc average = 0.5908844809894307, std = 0.006063395546187418\n"
     ]
    }
   ],
   "source": [
    "comp_roc(lite[flags + [target]].fillna(0), flags)"
   ]
  },
  {
   "cell_type": "code",
   "execution_count": 287,
   "id": "58ac374e",
   "metadata": {},
   "outputs": [],
   "source": [
    "predict_n_write_csv(flags, 'trash.csv')"
   ]
  },
  {
   "cell_type": "code",
   "execution_count": 297,
   "id": "1c94e989",
   "metadata": {},
   "outputs": [
    {
     "name": "stdout",
     "output_type": "stream",
     "text": [
      "Fold full 0: roc_auc 0.5061332045875804\n",
      "Fold full 1: roc_auc 0.502174846045988\n",
      "Fold full 2: roc_auc 0.49614848406741624\n",
      "Fold full 3: roc_auc 0.5010339972156963\n",
      "Fold full 4: roc_auc 0.5058621012544408\n",
      "roc average = 0.5022705266342243, std = 0.0036561524637680606\n"
     ]
    }
   ],
   "source": [
    "comp_roc(train[[target, \"SK_ID_CURR\"]].fillna(0), [\"SK_ID_CURR\"])"
   ]
  }
 ],
 "metadata": {
  "kernelspec": {
   "display_name": "Python 3 (ipykernel)",
   "language": "python",
   "name": "python3"
  },
  "language_info": {
   "codemirror_mode": {
    "name": "ipython",
    "version": 3
   },
   "file_extension": ".py",
   "mimetype": "text/x-python",
   "name": "python",
   "nbconvert_exporter": "python",
   "pygments_lexer": "ipython3",
   "version": "3.8.10"
  }
 },
 "nbformat": 4,
 "nbformat_minor": 5
}
