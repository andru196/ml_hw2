{
 "cells": [
  {
   "cell_type": "markdown",
   "id": "d46d7f80",
   "metadata": {},
   "source": [
    "Импортируем всякое"
   ]
  },
  {
   "cell_type": "code",
   "execution_count": 1,
   "id": "17223940",
   "metadata": {},
   "outputs": [],
   "source": [
    "import pandas as pd\n",
    "import numpy as np\n",
    "import matplotlib.pyplot as plt\n",
    "import seaborn as sns\n",
    "import datetime\n",
    "from sklearn.model_selection import KFold\n",
    "from sklearn.metrics import mean_squared_error, mean_squared_log_error\n",
    "from sklearn.linear_model import LogisticRegression\n",
    "from sklearn.linear_model import SGDRegressor\n",
    "from itertools import cycle\n",
    "from sklearn.metrics import roc_curve, auc\n",
    "from sklearn.model_selection import train_test_split\n",
    "from scipy import interp\n",
    "from sklearn.metrics import roc_auc_score"
   ]
  },
  {
   "cell_type": "markdown",
   "id": "969d916c",
   "metadata": {},
   "source": [
    "Вдруг придётся преоткрыть"
   ]
  },
  {
   "cell_type": "code",
   "execution_count": 2,
   "id": "96478ba8",
   "metadata": {},
   "outputs": [],
   "source": [
    "train = None\n",
    "test = None\n",
    "def reload_data():\n",
    "    global train\n",
    "    train = pd.read_csv(\"../data/raw/application_train.csv\")\n",
    "    global test\n",
    "    test = pd.read_csv(\"../data/raw/application_test.csv\")"
   ]
  },
  {
   "cell_type": "markdown",
   "id": "ba4de1e7",
   "metadata": {},
   "source": [
    "Избавимся от y\\n во флагах"
   ]
  },
  {
   "cell_type": "code",
   "execution_count": 3,
   "id": "d6e8cab1",
   "metadata": {},
   "outputs": [],
   "source": [
    "def flag_to_int(df):\n",
    "    for i in df:\n",
    "        if \"FLAG\" in i:\n",
    "            df[i] = np.where((df[i] == 'Y') | (df[i] == 'y') | (df[i] == 1), 1, 0)"
   ]
  },
  {
   "cell_type": "code",
   "execution_count": 4,
   "id": "2d69f210",
   "metadata": {},
   "outputs": [],
   "source": [
    "reload_data()"
   ]
  },
  {
   "cell_type": "code",
   "execution_count": 5,
   "id": "faacbe45",
   "metadata": {},
   "outputs": [],
   "source": [
    "flag_to_int(train)\n",
    "flag_to_int(test)"
   ]
  },
  {
   "cell_type": "code",
   "execution_count": 6,
   "id": "8605ac15",
   "metadata": {},
   "outputs": [],
   "source": [
    "target = \"TARGET\""
   ]
  },
  {
   "cell_type": "markdown",
   "id": "78fe484f",
   "metadata": {},
   "source": [
    "Достаём часть данных, чтобы ускорить работу"
   ]
  },
  {
   "cell_type": "code",
   "execution_count": 7,
   "id": "692d82e3",
   "metadata": {},
   "outputs": [],
   "source": [
    "def eq_df(df):\n",
    "    positive = df[df[target] == 1]\n",
    "    negative = df[df[target] == 0]\n",
    "\n",
    "    indexes1 = np.random.choice(len(positive), replace=False, size=20000)\n",
    "    indexes2 = np.random.choice(len(negative), replace=False, size=20000)\n",
    "\n",
    "\n",
    "    newdf = pd.concat([positive.iloc[indexes1], negative.iloc[indexes2]]).join(pd.read_csv(\"../data/raw/bureau.csv\"), on='SK_ID_CURR', how='inner', rsuffix='_b').join(pd.read_csv(\"../data/raw/credit_card_balance.csv\"), on='SK_ID_CURR', how='inner', rsuffix='_ccb').join(pd.read_csv(\"../data/raw/previous_application.csv\"), on='SK_ID_CURR', how='inner', rsuffix='_pa').join(pd.read_csv(\"../data/raw/POS_CASH_balance.csv\"), on='SK_ID_CURR', how='inner', rsuffix='_pcb')\n",
    "    return newdf\n",
    "lite = eq_df(train)\n",
    "flag_to_int(lite)"
   ]
  },
  {
   "cell_type": "markdown",
   "id": "4a6dc6ee",
   "metadata": {},
   "source": [
    "Функция для тестиования и измерения orc auc"
   ]
  },
  {
   "cell_type": "code",
   "execution_count": 19,
   "id": "8cc7fd92",
   "metadata": {},
   "outputs": [],
   "source": [
    "def comp_roc(df, features, target = \"TARGET\"):\n",
    "    kf = KFold(n_splits=5, shuffle=True) #random_state=42)\n",
    "    \n",
    "    roc_list = []\n",
    "    for i, (train_index, val_index) in enumerate(kf.split(df)):\n",
    "        train_part = df.iloc[train_index, : ]\n",
    "        train_x = train_part[features]\n",
    "        train_y = train_part[target]\n",
    "        \n",
    "        val_part = df.iloc[val_index, :]\n",
    "        test_x = val_part[features]\n",
    "        test_y = val_part[target]\n",
    "        \n",
    "        model = LogisticRegression()\n",
    "        \n",
    "        model.fit(train_x, train_y)\n",
    "        \n",
    "        y_score = model.predict_proba(test_x)[:,1]\n",
    "\n",
    "        fpr, tpr, _ = roc_curve(test_y, y_score)\n",
    "        roc_auc = auc(fpr, tpr)\n",
    "\n",
    "        print(f'Fold full {i}: roc_auc {roc_auc}, count values {y_score}')\n",
    "        roc_list.append(roc_auc)\n",
    "\n",
    "        \n",
    "    print(f'roc average = {np.mean(roc_list)}, std = {np.std(roc_list)}')"
   ]
  },
  {
   "cell_type": "markdown",
   "id": "67ba7e33",
   "metadata": {},
   "source": [
    "Функция для тестирования и подсчёта msle"
   ]
  },
  {
   "cell_type": "code",
   "execution_count": 10,
   "id": "04908a4e",
   "metadata": {},
   "outputs": [],
   "source": [
    "\n",
    "def comp_mse(df, features, target):\n",
    "    kf = KFold(n_splits=5, shuffle=True) #random_state=42)\n",
    "    \n",
    "    msle_list = []\n",
    "    mse_list = []\n",
    "    for i, (train_index, val_index) in enumerate(kf.split(df)):    \n",
    "        train_part = df.iloc[train_index, : ]\n",
    "        val_part = df.iloc[val_index, :]\n",
    "        model = SGDRegressor()\n",
    "        model.fit(X=train_part[features].fillna(0), y = train_part[target])\n",
    "\n",
    "        val_predication = model.predict(val_part[features].fillna(0)).clip(0, 100000000000)\n",
    "\n",
    "        mse = mean_squared_error(val_predication, val_part[target])\n",
    "        msle = mean_squared_log_error(val_predication, val_part[target])\n",
    "\n",
    "        \n",
    "        print(f'Fold full {i}: msle {msle}, mse {mse}')\n",
    "        msle_list.append(msle)\n",
    "        mse_list.append(mse)\n",
    "        \n",
    "    print(f'MSLE average = {np.mean(msle_list)}, std = {np.std(msle_list)}')\n",
    "    "
   ]
  },
  {
   "cell_type": "code",
   "execution_count": 34,
   "id": "84359884",
   "metadata": {},
   "outputs": [],
   "source": [
    "def predict_n_write_csv(features, path=\"predict1.csv\"):\n",
    "    target = \"TARGET\"\n",
    "    \n",
    "    model = LogisticRegression()\n",
    "    model.fit(X=lite[features].fillna(0), y = lite[target])\n",
    "    \n",
    "    sample_submission = pd.read_csv(\"../data/raw/sample_submission.csv\")\n",
    "    sample_submission[target] = model.predict(test[features]) \n",
    "    sample_submission.to_csv(path, index= False)"
   ]
  },
  {
   "cell_type": "markdown",
   "id": "89543c84",
   "metadata": {},
   "source": [
    "Подготовка данных"
   ]
  },
  {
   "cell_type": "code",
   "execution_count": 12,
   "id": "ef1ea269",
   "metadata": {},
   "outputs": [],
   "source": [
    "def prepare_data(x1, x2=None):\n",
    "    global train\n",
    "    train = x1(train)\n",
    "    if x2 != None:\n",
    "        global test\n",
    "        test = x2(test)"
   ]
  },
  {
   "cell_type": "markdown",
   "id": "6f29ba6d",
   "metadata": {},
   "source": [
    "Подцепим флаги из осного сета"
   ]
  },
  {
   "cell_type": "code",
   "execution_count": 13,
   "id": "7ebe2b0e",
   "metadata": {},
   "outputs": [],
   "source": [
    "flags = [\"FLAG_MOBIL\", \"FLAG_EMP_PHONE\", \"FLAG_CONT_MOBILE\", \"FLAG_EMAIL\", \"REG_REGION_NOT_WORK_REGION\",\n",
    "        # \"DAYS_LAST_PHONE_CHANGE\", 'REG_REGION_NOT_LIVE_REGION','REG_REGION_NOT_WORK_REGION',\n",
    "         'LIVE_REGION_NOT_WORK_REGION', 'REG_CITY_NOT_LIVE_CITY','REG_CITY_NOT_WORK_CITY',\n",
    "            'FLAG_OWN_REALTY', 'FLAG_OWN_CAR']"
   ]
  },
  {
   "cell_type": "code",
   "execution_count": 14,
   "id": "caaab16d",
   "metadata": {},
   "outputs": [],
   "source": [
    "lite.AMT_CREDIT_SUM.fillna(0, inplace=True)"
   ]
  },
  {
   "cell_type": "code",
   "execution_count": 15,
   "id": "21df056b",
   "metadata": {},
   "outputs": [],
   "source": [
    "lite['have_credit'] = lite.AMT_CREDIT_SUM > lite.AMT_GOODS_PRICE"
   ]
  },
  {
   "cell_type": "code",
   "execution_count": 16,
   "id": "0235099a",
   "metadata": {},
   "outputs": [],
   "source": [
    "lite['have_credit'] = np.where(lite['have_credit'], 1, 0)\n"
   ]
  },
  {
   "cell_type": "code",
   "execution_count": 17,
   "id": "249b32a9",
   "metadata": {},
   "outputs": [
    {
     "data": {
      "text/html": [
       "<div>\n",
       "<style scoped>\n",
       "    .dataframe tbody tr th:only-of-type {\n",
       "        vertical-align: middle;\n",
       "    }\n",
       "\n",
       "    .dataframe tbody tr th {\n",
       "        vertical-align: top;\n",
       "    }\n",
       "\n",
       "    .dataframe thead th {\n",
       "        text-align: right;\n",
       "    }\n",
       "</style>\n",
       "<table border=\"1\" class=\"dataframe\">\n",
       "  <thead>\n",
       "    <tr style=\"text-align: right;\">\n",
       "      <th></th>\n",
       "      <th>EXT_SOURCE_1</th>\n",
       "      <th>EXT_SOURCE_2</th>\n",
       "      <th>EXT_SOURCE_3</th>\n",
       "      <th>TARGET</th>\n",
       "    </tr>\n",
       "  </thead>\n",
       "  <tbody>\n",
       "    <tr>\n",
       "      <th>182376</th>\n",
       "      <td>NaN</td>\n",
       "      <td>0.243033</td>\n",
       "      <td>0.000527</td>\n",
       "      <td>1</td>\n",
       "    </tr>\n",
       "    <tr>\n",
       "      <th>305296</th>\n",
       "      <td>0.456198</td>\n",
       "      <td>0.705166</td>\n",
       "      <td>0.472253</td>\n",
       "      <td>1</td>\n",
       "    </tr>\n",
       "    <tr>\n",
       "      <th>280705</th>\n",
       "      <td>0.029535</td>\n",
       "      <td>0.649452</td>\n",
       "      <td>0.159520</td>\n",
       "      <td>1</td>\n",
       "    </tr>\n",
       "    <tr>\n",
       "      <th>112440</th>\n",
       "      <td>0.247591</td>\n",
       "      <td>0.560507</td>\n",
       "      <td>0.164414</td>\n",
       "      <td>1</td>\n",
       "    </tr>\n",
       "    <tr>\n",
       "      <th>102235</th>\n",
       "      <td>NaN</td>\n",
       "      <td>0.540059</td>\n",
       "      <td>0.107532</td>\n",
       "      <td>1</td>\n",
       "    </tr>\n",
       "    <tr>\n",
       "      <th>...</th>\n",
       "      <td>...</td>\n",
       "      <td>...</td>\n",
       "      <td>...</td>\n",
       "      <td>...</td>\n",
       "    </tr>\n",
       "    <tr>\n",
       "      <th>17238</th>\n",
       "      <td>NaN</td>\n",
       "      <td>0.564489</td>\n",
       "      <td>0.683269</td>\n",
       "      <td>0</td>\n",
       "    </tr>\n",
       "    <tr>\n",
       "      <th>134991</th>\n",
       "      <td>0.195874</td>\n",
       "      <td>0.484197</td>\n",
       "      <td>NaN</td>\n",
       "      <td>0</td>\n",
       "    </tr>\n",
       "    <tr>\n",
       "      <th>1225</th>\n",
       "      <td>0.428096</td>\n",
       "      <td>0.638422</td>\n",
       "      <td>NaN</td>\n",
       "      <td>0</td>\n",
       "    </tr>\n",
       "    <tr>\n",
       "      <th>216783</th>\n",
       "      <td>0.572976</td>\n",
       "      <td>0.625233</td>\n",
       "      <td>0.782608</td>\n",
       "      <td>0</td>\n",
       "    </tr>\n",
       "    <tr>\n",
       "      <th>107231</th>\n",
       "      <td>NaN</td>\n",
       "      <td>0.635398</td>\n",
       "      <td>0.553165</td>\n",
       "      <td>0</td>\n",
       "    </tr>\n",
       "  </tbody>\n",
       "</table>\n",
       "<p>40000 rows × 4 columns</p>\n",
       "</div>"
      ],
      "text/plain": [
       "        EXT_SOURCE_1  EXT_SOURCE_2  EXT_SOURCE_3  TARGET\n",
       "182376           NaN      0.243033      0.000527       1\n",
       "305296      0.456198      0.705166      0.472253       1\n",
       "280705      0.029535      0.649452      0.159520       1\n",
       "112440      0.247591      0.560507      0.164414       1\n",
       "102235           NaN      0.540059      0.107532       1\n",
       "...              ...           ...           ...     ...\n",
       "17238            NaN      0.564489      0.683269       0\n",
       "134991      0.195874      0.484197           NaN       0\n",
       "1225        0.428096      0.638422           NaN       0\n",
       "216783      0.572976      0.625233      0.782608       0\n",
       "107231           NaN      0.635398      0.553165       0\n",
       "\n",
       "[40000 rows x 4 columns]"
      ]
     },
     "execution_count": 17,
     "metadata": {},
     "output_type": "execute_result"
    }
   ],
   "source": [
    "lite[['EXT_SOURCE_1', 'EXT_SOURCE_2',\"EXT_SOURCE_3\", target]]"
   ]
  },
  {
   "cell_type": "markdown",
   "id": "2acb9d37",
   "metadata": {},
   "source": [
    "Посмотрим как соотносятся EXT_SOURCE и target"
   ]
  },
  {
   "cell_type": "code",
   "execution_count": 20,
   "id": "dc9fe494",
   "metadata": {
    "scrolled": true
   },
   "outputs": [
    {
     "name": "stdout",
     "output_type": "stream",
     "text": [
      "Fold full 0: roc_auc 0.7474018475750577, count values [0.76098931 0.61518053 0.69850231 ... 0.14829457 0.15438935 0.27847492]\n",
      "Fold full 1: roc_auc 0.7522412819710118, count values [0.73819858 0.57161397 0.64086602 ... 0.25997207 0.39438873 0.17973408]\n",
      "Fold full 2: roc_auc 0.7367768355766015, count values [0.79210436 0.70829096 0.4861368  ... 0.55703008 0.2958644  0.2814512 ]\n",
      "Fold full 3: roc_auc 0.7318127687815948, count values [0.34228634 0.70810965 0.63343899 ... 0.52631443 0.33790979 0.49580532]\n",
      "Fold full 4: roc_auc 0.7374474850464758, count values [0.43917089 0.32036963 0.26478586 ... 0.23664477 0.14210132 0.14002826]\n",
      "roc average = 0.7411360437901483, std = 0.007511567491068526\n"
     ]
    }
   ],
   "source": [
    "comp_roc(lite[['EXT_SOURCE_1', 'EXT_SOURCE_2',\"EXT_SOURCE_3\", target]].dropna(), ['EXT_SOURCE_1', 'EXT_SOURCE_2',\"EXT_SOURCE_3\"])"
   ]
  },
  {
   "cell_type": "code",
   "execution_count": 21,
   "id": "fcdbe27d",
   "metadata": {
    "scrolled": true
   },
   "outputs": [
    {
     "ename": "ValueError",
     "evalue": "Input contains NaN, infinity or a value too large for dtype('float64').",
     "output_type": "error",
     "traceback": [
      "\u001b[0;31m---------------------------------------------------------------------------\u001b[0m",
      "\u001b[0;31mValueError\u001b[0m                                Traceback (most recent call last)",
      "\u001b[0;32m/tmp/ipykernel_173/236058147.py\u001b[0m in \u001b[0;36m<module>\u001b[0;34m\u001b[0m\n\u001b[0;32m----> 1\u001b[0;31m \u001b[0mpredict_n_write_csv\u001b[0m\u001b[0;34m(\u001b[0m\u001b[0;34m[\u001b[0m\u001b[0;34m'EXT_SOURCE_1'\u001b[0m\u001b[0;34m,\u001b[0m \u001b[0;34m'EXT_SOURCE_2'\u001b[0m\u001b[0;34m,\u001b[0m\u001b[0;34m\"EXT_SOURCE_3\"\u001b[0m\u001b[0;34m]\u001b[0m\u001b[0;34m,\u001b[0m \u001b[0;34m'all_ext_souce.csv'\u001b[0m\u001b[0;34m)\u001b[0m\u001b[0;34m\u001b[0m\u001b[0;34m\u001b[0m\u001b[0m\n\u001b[0m",
      "\u001b[0;32m/tmp/ipykernel_173/3499832068.py\u001b[0m in \u001b[0;36mpredict_n_write_csv\u001b[0;34m(features, path)\u001b[0m\n\u001b[1;32m      6\u001b[0m \u001b[0;34m\u001b[0m\u001b[0m\n\u001b[1;32m      7\u001b[0m     \u001b[0msample_submission\u001b[0m \u001b[0;34m=\u001b[0m \u001b[0mpd\u001b[0m\u001b[0;34m.\u001b[0m\u001b[0mread_csv\u001b[0m\u001b[0;34m(\u001b[0m\u001b[0;34m\"../data/raw/sample_submission.csv\"\u001b[0m\u001b[0;34m)\u001b[0m\u001b[0;34m\u001b[0m\u001b[0;34m\u001b[0m\u001b[0m\n\u001b[0;32m----> 8\u001b[0;31m     \u001b[0msample_submission\u001b[0m\u001b[0;34m[\u001b[0m\u001b[0mtarget\u001b[0m\u001b[0;34m]\u001b[0m \u001b[0;34m=\u001b[0m \u001b[0mmodel\u001b[0m\u001b[0;34m.\u001b[0m\u001b[0mpredict\u001b[0m\u001b[0;34m(\u001b[0m\u001b[0mtest\u001b[0m\u001b[0;34m[\u001b[0m\u001b[0mfeatures\u001b[0m\u001b[0;34m]\u001b[0m\u001b[0;34m)\u001b[0m\u001b[0;34m\u001b[0m\u001b[0;34m\u001b[0m\u001b[0m\n\u001b[0m\u001b[1;32m      9\u001b[0m     \u001b[0msample_submission\u001b[0m\u001b[0;34m.\u001b[0m\u001b[0mto_csv\u001b[0m\u001b[0;34m(\u001b[0m\u001b[0mpath\u001b[0m\u001b[0;34m,\u001b[0m \u001b[0mindex\u001b[0m\u001b[0;34m=\u001b[0m \u001b[0;32mFalse\u001b[0m\u001b[0;34m)\u001b[0m\u001b[0;34m\u001b[0m\u001b[0;34m\u001b[0m\u001b[0m\n",
      "\u001b[0;32m~/.local/lib/python3.8/site-packages/sklearn/linear_model/_base.py\u001b[0m in \u001b[0;36mpredict\u001b[0;34m(self, X)\u001b[0m\n\u001b[1;32m    423\u001b[0m             \u001b[0mPredicted\u001b[0m \u001b[0;32mclass\u001b[0m \u001b[0mlabel\u001b[0m \u001b[0mper\u001b[0m \u001b[0msample\u001b[0m\u001b[0;34m.\u001b[0m\u001b[0;34m\u001b[0m\u001b[0;34m\u001b[0m\u001b[0m\n\u001b[1;32m    424\u001b[0m         \"\"\"\n\u001b[0;32m--> 425\u001b[0;31m         \u001b[0mscores\u001b[0m \u001b[0;34m=\u001b[0m \u001b[0mself\u001b[0m\u001b[0;34m.\u001b[0m\u001b[0mdecision_function\u001b[0m\u001b[0;34m(\u001b[0m\u001b[0mX\u001b[0m\u001b[0;34m)\u001b[0m\u001b[0;34m\u001b[0m\u001b[0;34m\u001b[0m\u001b[0m\n\u001b[0m\u001b[1;32m    426\u001b[0m         \u001b[0;32mif\u001b[0m \u001b[0mlen\u001b[0m\u001b[0;34m(\u001b[0m\u001b[0mscores\u001b[0m\u001b[0;34m.\u001b[0m\u001b[0mshape\u001b[0m\u001b[0;34m)\u001b[0m \u001b[0;34m==\u001b[0m \u001b[0;36m1\u001b[0m\u001b[0;34m:\u001b[0m\u001b[0;34m\u001b[0m\u001b[0;34m\u001b[0m\u001b[0m\n\u001b[1;32m    427\u001b[0m             \u001b[0mindices\u001b[0m \u001b[0;34m=\u001b[0m \u001b[0;34m(\u001b[0m\u001b[0mscores\u001b[0m \u001b[0;34m>\u001b[0m \u001b[0;36m0\u001b[0m\u001b[0;34m)\u001b[0m\u001b[0;34m.\u001b[0m\u001b[0mastype\u001b[0m\u001b[0;34m(\u001b[0m\u001b[0mint\u001b[0m\u001b[0;34m)\u001b[0m\u001b[0;34m\u001b[0m\u001b[0;34m\u001b[0m\u001b[0m\n",
      "\u001b[0;32m~/.local/lib/python3.8/site-packages/sklearn/linear_model/_base.py\u001b[0m in \u001b[0;36mdecision_function\u001b[0;34m(self, X)\u001b[0m\n\u001b[1;32m    405\u001b[0m         \u001b[0mcheck_is_fitted\u001b[0m\u001b[0;34m(\u001b[0m\u001b[0mself\u001b[0m\u001b[0;34m)\u001b[0m\u001b[0;34m\u001b[0m\u001b[0;34m\u001b[0m\u001b[0m\n\u001b[1;32m    406\u001b[0m \u001b[0;34m\u001b[0m\u001b[0m\n\u001b[0;32m--> 407\u001b[0;31m         \u001b[0mX\u001b[0m \u001b[0;34m=\u001b[0m \u001b[0mself\u001b[0m\u001b[0;34m.\u001b[0m\u001b[0m_validate_data\u001b[0m\u001b[0;34m(\u001b[0m\u001b[0mX\u001b[0m\u001b[0;34m,\u001b[0m \u001b[0maccept_sparse\u001b[0m\u001b[0;34m=\u001b[0m\u001b[0;34m\"csr\"\u001b[0m\u001b[0;34m,\u001b[0m \u001b[0mreset\u001b[0m\u001b[0;34m=\u001b[0m\u001b[0;32mFalse\u001b[0m\u001b[0;34m)\u001b[0m\u001b[0;34m\u001b[0m\u001b[0;34m\u001b[0m\u001b[0m\n\u001b[0m\u001b[1;32m    408\u001b[0m         \u001b[0mscores\u001b[0m \u001b[0;34m=\u001b[0m \u001b[0msafe_sparse_dot\u001b[0m\u001b[0;34m(\u001b[0m\u001b[0mX\u001b[0m\u001b[0;34m,\u001b[0m \u001b[0mself\u001b[0m\u001b[0;34m.\u001b[0m\u001b[0mcoef_\u001b[0m\u001b[0;34m.\u001b[0m\u001b[0mT\u001b[0m\u001b[0;34m,\u001b[0m \u001b[0mdense_output\u001b[0m\u001b[0;34m=\u001b[0m\u001b[0;32mTrue\u001b[0m\u001b[0;34m)\u001b[0m \u001b[0;34m+\u001b[0m \u001b[0mself\u001b[0m\u001b[0;34m.\u001b[0m\u001b[0mintercept_\u001b[0m\u001b[0;34m\u001b[0m\u001b[0;34m\u001b[0m\u001b[0m\n\u001b[1;32m    409\u001b[0m         \u001b[0;32mreturn\u001b[0m \u001b[0mscores\u001b[0m\u001b[0;34m.\u001b[0m\u001b[0mravel\u001b[0m\u001b[0;34m(\u001b[0m\u001b[0;34m)\u001b[0m \u001b[0;32mif\u001b[0m \u001b[0mscores\u001b[0m\u001b[0;34m.\u001b[0m\u001b[0mshape\u001b[0m\u001b[0;34m[\u001b[0m\u001b[0;36m1\u001b[0m\u001b[0;34m]\u001b[0m \u001b[0;34m==\u001b[0m \u001b[0;36m1\u001b[0m \u001b[0;32melse\u001b[0m \u001b[0mscores\u001b[0m\u001b[0;34m\u001b[0m\u001b[0;34m\u001b[0m\u001b[0m\n",
      "\u001b[0;32m~/.local/lib/python3.8/site-packages/sklearn/base.py\u001b[0m in \u001b[0;36m_validate_data\u001b[0;34m(self, X, y, reset, validate_separately, **check_params)\u001b[0m\n\u001b[1;32m    555\u001b[0m             \u001b[0;32mraise\u001b[0m \u001b[0mValueError\u001b[0m\u001b[0;34m(\u001b[0m\u001b[0;34m\"Validation should be done on X, y or both.\"\u001b[0m\u001b[0;34m)\u001b[0m\u001b[0;34m\u001b[0m\u001b[0;34m\u001b[0m\u001b[0m\n\u001b[1;32m    556\u001b[0m         \u001b[0;32melif\u001b[0m \u001b[0;32mnot\u001b[0m \u001b[0mno_val_X\u001b[0m \u001b[0;32mand\u001b[0m \u001b[0mno_val_y\u001b[0m\u001b[0;34m:\u001b[0m\u001b[0;34m\u001b[0m\u001b[0;34m\u001b[0m\u001b[0m\n\u001b[0;32m--> 557\u001b[0;31m             \u001b[0mX\u001b[0m \u001b[0;34m=\u001b[0m \u001b[0mcheck_array\u001b[0m\u001b[0;34m(\u001b[0m\u001b[0mX\u001b[0m\u001b[0;34m,\u001b[0m \u001b[0;34m**\u001b[0m\u001b[0mcheck_params\u001b[0m\u001b[0;34m)\u001b[0m\u001b[0;34m\u001b[0m\u001b[0;34m\u001b[0m\u001b[0m\n\u001b[0m\u001b[1;32m    558\u001b[0m             \u001b[0mout\u001b[0m \u001b[0;34m=\u001b[0m \u001b[0mX\u001b[0m\u001b[0;34m\u001b[0m\u001b[0;34m\u001b[0m\u001b[0m\n\u001b[1;32m    559\u001b[0m         \u001b[0;32melif\u001b[0m \u001b[0mno_val_X\u001b[0m \u001b[0;32mand\u001b[0m \u001b[0;32mnot\u001b[0m \u001b[0mno_val_y\u001b[0m\u001b[0;34m:\u001b[0m\u001b[0;34m\u001b[0m\u001b[0;34m\u001b[0m\u001b[0m\n",
      "\u001b[0;32m~/.local/lib/python3.8/site-packages/sklearn/utils/validation.py\u001b[0m in \u001b[0;36mcheck_array\u001b[0;34m(array, accept_sparse, accept_large_sparse, dtype, order, copy, force_all_finite, ensure_2d, allow_nd, ensure_min_samples, ensure_min_features, estimator)\u001b[0m\n\u001b[1;32m    790\u001b[0m \u001b[0;34m\u001b[0m\u001b[0m\n\u001b[1;32m    791\u001b[0m         \u001b[0;32mif\u001b[0m \u001b[0mforce_all_finite\u001b[0m\u001b[0;34m:\u001b[0m\u001b[0;34m\u001b[0m\u001b[0;34m\u001b[0m\u001b[0m\n\u001b[0;32m--> 792\u001b[0;31m             \u001b[0m_assert_all_finite\u001b[0m\u001b[0;34m(\u001b[0m\u001b[0marray\u001b[0m\u001b[0;34m,\u001b[0m \u001b[0mallow_nan\u001b[0m\u001b[0;34m=\u001b[0m\u001b[0mforce_all_finite\u001b[0m \u001b[0;34m==\u001b[0m \u001b[0;34m\"allow-nan\"\u001b[0m\u001b[0;34m)\u001b[0m\u001b[0;34m\u001b[0m\u001b[0;34m\u001b[0m\u001b[0m\n\u001b[0m\u001b[1;32m    793\u001b[0m \u001b[0;34m\u001b[0m\u001b[0m\n\u001b[1;32m    794\u001b[0m     \u001b[0;32mif\u001b[0m \u001b[0mensure_min_samples\u001b[0m \u001b[0;34m>\u001b[0m \u001b[0;36m0\u001b[0m\u001b[0;34m:\u001b[0m\u001b[0;34m\u001b[0m\u001b[0;34m\u001b[0m\u001b[0m\n",
      "\u001b[0;32m~/.local/lib/python3.8/site-packages/sklearn/utils/validation.py\u001b[0m in \u001b[0;36m_assert_all_finite\u001b[0;34m(X, allow_nan, msg_dtype)\u001b[0m\n\u001b[1;32m    112\u001b[0m         ):\n\u001b[1;32m    113\u001b[0m             \u001b[0mtype_err\u001b[0m \u001b[0;34m=\u001b[0m \u001b[0;34m\"infinity\"\u001b[0m \u001b[0;32mif\u001b[0m \u001b[0mallow_nan\u001b[0m \u001b[0;32melse\u001b[0m \u001b[0;34m\"NaN, infinity\"\u001b[0m\u001b[0;34m\u001b[0m\u001b[0;34m\u001b[0m\u001b[0m\n\u001b[0;32m--> 114\u001b[0;31m             raise ValueError(\n\u001b[0m\u001b[1;32m    115\u001b[0m                 msg_err.format(\n\u001b[1;32m    116\u001b[0m                     \u001b[0mtype_err\u001b[0m\u001b[0;34m,\u001b[0m \u001b[0mmsg_dtype\u001b[0m \u001b[0;32mif\u001b[0m \u001b[0mmsg_dtype\u001b[0m \u001b[0;32mis\u001b[0m \u001b[0;32mnot\u001b[0m \u001b[0;32mNone\u001b[0m \u001b[0;32melse\u001b[0m \u001b[0mX\u001b[0m\u001b[0;34m.\u001b[0m\u001b[0mdtype\u001b[0m\u001b[0;34m\u001b[0m\u001b[0;34m\u001b[0m\u001b[0m\n",
      "\u001b[0;31mValueError\u001b[0m: Input contains NaN, infinity or a value too large for dtype('float64')."
     ]
    }
   ],
   "source": [
    "predict_n_write_csv(['EXT_SOURCE_1', 'EXT_SOURCE_2',\"EXT_SOURCE_3\"], 'all_ext_souce.csv')"
   ]
  },
  {
   "cell_type": "markdown",
   "id": "48db167b",
   "metadata": {},
   "source": [
    "Увы есть пропуски, попробуем вычислсить."
   ]
  },
  {
   "cell_type": "code",
   "execution_count": 22,
   "id": "f06b333e",
   "metadata": {},
   "outputs": [
    {
     "name": "stdout",
     "output_type": "stream",
     "text": [
      "Fold full 0: msle 0.019718981994631644, mse 0.040749902639176036\n",
      "Fold full 1: msle 0.020219399959246213, mse 0.04165768693029467\n",
      "Fold full 2: msle 0.02045182534731501, mse 0.04213181774866574\n",
      "Fold full 3: msle 0.02032239115909918, mse 0.041839467841941654\n",
      "Fold full 4: msle 0.020928057457742885, mse 0.042427292244028164\n",
      "MSLE average = 0.020328131183606987, std = 0.00038939181860837005\n"
     ]
    }
   ],
   "source": [
    "comp_mse(lite[flags + ['EXT_SOURCE_1']].dropna(), flags, 'EXT_SOURCE_1')"
   ]
  },
  {
   "cell_type": "markdown",
   "id": "dac19e56",
   "metadata": {},
   "source": [
    "### Кажется подбор $\\pm$ успешен"
   ]
  },
  {
   "cell_type": "code",
   "execution_count": 23,
   "id": "5750dfa5",
   "metadata": {},
   "outputs": [],
   "source": [
    "def fillna_with_model(df, model, features, target):\n",
    "    df[target] = np.where(df[target].isna(), model.predict(df[features]), df[target])"
   ]
  },
  {
   "cell_type": "code",
   "execution_count": 39,
   "id": "cf8a6e20",
   "metadata": {},
   "outputs": [],
   "source": [
    "def fillna_EXT_SOURCE():\n",
    "    model = SGDRegressor()\n",
    "    target = 'EXT_SOURCE_1'\n",
    "    part = train[flags + [target]].dropna()\n",
    "    model.fit(X=part[flags], y=part[target])\n",
    "    fillna_with_model(train, model, flags, target)\n",
    "    fillna_with_model(test, model, flags, target)\n",
    "    fillna_with_model(lite, model, flags, target)\n",
    "    \n",
    "    target = 'EXT_SOURCE_2'\n",
    "    model = SGDRegressor()\n",
    "    part =train[flags + [target]].dropna()\n",
    "    model.fit(X=part[flags], y=part[target])\n",
    "    fillna_with_model(train, model, flags, target) \n",
    "    fillna_with_model(test, model, flags, target)\n",
    "    fillna_with_model(lite, model, flags, target)\n",
    "    \n",
    "    target = 'EXT_SOURCE_3'\n",
    "    model = SGDRegressor()\n",
    "    part = train[flags + [target]].dropna()\n",
    "    model.fit(X=part[flags], y=part[target])\n",
    "    fillna_with_model(train, model, flags, target)\n",
    "    fillna_with_model(test, model, flags, target)\n",
    "    fillna_with_model(lite, model, flags, target)"
   ]
  },
  {
   "cell_type": "code",
   "execution_count": 40,
   "id": "f3d90454",
   "metadata": {},
   "outputs": [],
   "source": [
    "fillna_EXT_SOURCE()"
   ]
  },
  {
   "cell_type": "code",
   "execution_count": 26,
   "id": "ac85a10c",
   "metadata": {},
   "outputs": [
    {
     "name": "stdout",
     "output_type": "stream",
     "text": [
      "Fold full 0: roc_auc 0.7250331172613247, count values [0.10752731 0.09199032 0.03379605 ... 0.06097241 0.05112123 0.07883791]\n",
      "Fold full 1: roc_auc 0.7249839693423139, count values [0.03737098 0.02868642 0.11451819 ... 0.05543631 0.03790669 0.08179572]\n",
      "Fold full 2: roc_auc 0.7204496023651097, count values [0.0336585  0.06237655 0.03092111 ... 0.04982343 0.02787348 0.10091856]\n",
      "Fold full 3: roc_auc 0.7198996316547865, count values [0.07136159 0.0460263  0.06860566 ... 0.03770265 0.13624582 0.05470569]\n",
      "Fold full 4: roc_auc 0.7195598026331512, count values [0.41980413 0.02690139 0.04088272 ... 0.08011082 0.06092931 0.08846672]\n",
      "roc average = 0.7219852246513372, std = 0.002484859151066652\n"
     ]
    }
   ],
   "source": [
    "comp_roc(train[['EXT_SOURCE_1', 'EXT_SOURCE_2',\"EXT_SOURCE_3\", target]].dropna(), ['EXT_SOURCE_1', 'EXT_SOURCE_2',\"EXT_SOURCE_3\"])"
   ]
  },
  {
   "cell_type": "markdown",
   "id": "b681522f",
   "metadata": {},
   "source": [
    "## Private\n",
    "0.49998\n",
    "## Public\n",
    "0.50072\n",
    "\n"
   ]
  },
  {
   "cell_type": "code",
   "execution_count": 27,
   "id": "8057219d",
   "metadata": {},
   "outputs": [],
   "source": [
    "predict_n_write_csv(['EXT_SOURCE_1', 'EXT_SOURCE_2',\"EXT_SOURCE_3\"], 'all_ext_souce.csv')"
   ]
  },
  {
   "cell_type": "markdown",
   "id": "bd1f9aab",
   "metadata": {},
   "source": [
    "Попробуем ещё вариант с EXT_SOURC"
   ]
  },
  {
   "cell_type": "code",
   "execution_count": 28,
   "id": "acc33e06",
   "metadata": {},
   "outputs": [
    {
     "name": "stdout",
     "output_type": "stream",
     "text": [
      "Fold full 0: roc_auc 0.6072782730009684, count values [0.09764174 0.0770024  0.09265694 ... 0.0770024  0.14303117 0.04931171]\n",
      "Fold full 1: roc_auc 0.608266019472773, count values [0.19820182 0.08527503 0.12002143 ... 0.03107257 0.09700092 0.04591481]\n",
      "Fold full 2: roc_auc 0.6017333685962084, count values [0.12272244 0.07896533 0.0764458  ... 0.08520441 0.04882693 0.04447816]\n",
      "Fold full 3: roc_auc 0.6093856224184209, count values [0.07696415 0.04187491 0.07696415 ... 0.05712044 0.14007487 0.08566633]\n",
      "Fold full 4: roc_auc 0.6161536911447825, count values [0.08819531 0.0867322  0.04791243 ... 0.08457599 0.07694071 0.17284373]\n",
      "roc average = 0.6085633949266306, std = 0.004619045029574435\n",
      "Fold full 0: roc_auc 0.6548513252635919, count values [0.05094348 0.11619631 0.04205438 ... 0.06181256 0.07468551 0.10971935]\n",
      "Fold full 1: roc_auc 0.6602969243781613, count values [0.15236087 0.03973955 0.06316058 ... 0.05582312 0.07256307 0.05088337]\n",
      "Fold full 2: roc_auc 0.651587179564524, count values [0.04299927 0.05061638 0.06497673 ... 0.0352809  0.06829377 0.0721511 ]\n",
      "Fold full 3: roc_auc 0.6626680074791804, count values [0.1074869  0.10946845 0.18746982 ... 0.11854373 0.06958332 0.18639592]\n",
      "Fold full 4: roc_auc 0.6503150894664315, count values [0.13420405 0.05447325 0.06468796 ... 0.05078327 0.04663605 0.04344577]\n",
      "roc average = 0.6559437052303778, std = 0.004817067219151172\n",
      "Fold full 0: roc_auc 0.6601470140781718, count values [0.04720428 0.23734954 0.07872391 ... 0.03693418 0.07127974 0.04608026]\n",
      "Fold full 1: roc_auc 0.6507450984208086, count values [0.19811157 0.07384234 0.07526733 ... 0.09626179 0.03571245 0.06118775]\n",
      "Fold full 2: roc_auc 0.6575002395262721, count values [0.037506   0.07152477 0.03507748 ... 0.07158313 0.17021148 0.0537625 ]\n",
      "Fold full 3: roc_auc 0.6593907450388939, count values [0.05154969 0.10816141 0.08255701 ... 0.0553412  0.06846435 0.0735057 ]\n",
      "Fold full 4: roc_auc 0.6543001558391331, count values [0.07396313 0.07137966 0.07137966 ... 0.07137966 0.16203362 0.21196311]\n",
      "roc average = 0.6564166505806559, std = 0.0034808352033942804\n"
     ]
    }
   ],
   "source": [
    "comp_roc(train[['EXT_SOURCE_1', 'EXT_SOURCE_2',\"EXT_SOURCE_3\", target]].dropna(), ['EXT_SOURCE_1'])\n",
    "comp_roc(train[['EXT_SOURCE_1', 'EXT_SOURCE_2',\"EXT_SOURCE_3\", target]].dropna(), ['EXT_SOURCE_2'])\n",
    "comp_roc(train[['EXT_SOURCE_1', 'EXT_SOURCE_2',\"EXT_SOURCE_3\", target]].dropna(), ['EXT_SOURCE_3'])"
   ]
  },
  {
   "cell_type": "code",
   "execution_count": 29,
   "id": "8fa227a9",
   "metadata": {},
   "outputs": [],
   "source": [
    "def predict_by_one(df, feature, df2):\n",
    "    model = LogisticRegression()\n",
    "    \n",
    "    model.fit(X=df[feature], y=df[target])\n",
    "    predictation = feature[0] + '_predict'\n",
    "    df[predictation] = model.predict(df[feature])\n",
    "    df2[predictation] = model.predict(df2[feature])"
   ]
  },
  {
   "cell_type": "code",
   "execution_count": 42,
   "id": "56e44f25",
   "metadata": {},
   "outputs": [],
   "source": [
    "predict_by_one(lite, ['EXT_SOURCE_1'],test)\n",
    "predict_by_one(lite, ['EXT_SOURCE_2'],test)\n",
    "predict_by_one(lite, ['EXT_SOURCE_3'],test)"
   ]
  },
  {
   "cell_type": "code",
   "execution_count": 43,
   "id": "0c6d7672",
   "metadata": {
    "scrolled": true
   },
   "outputs": [
    {
     "name": "stdout",
     "output_type": "stream",
     "text": [
      "Fold full 0: roc_auc 0.6746966934352976, count values [0.57110059 0.57110059 0.28594141 ... 0.28594141 0.37787457 0.28594141]\n",
      "Fold full 1: roc_auc 0.6782299766796269, count values [0.57053742 0.67619974 0.76194119 ... 0.28678249 0.38129095 0.49206194]\n",
      "Fold full 2: roc_auc 0.6811258591287869, count values [0.76094203 0.57357119 0.76094203 ... 0.28883237 0.28883237 0.38762477]\n",
      "Fold full 3: roc_auc 0.6720503132012527, count values [0.3848693  0.76564088 0.28474915 ... 0.3848693  0.57816968 0.28474915]\n",
      "Fold full 4: roc_auc 0.6809763550610222, count values [0.67522138 0.57079731 0.38305929 ... 0.59817872 0.76125461 0.38305929]\n",
      "roc average = 0.6774158395011972, std = 0.003557722975085349\n"
     ]
    }
   ],
   "source": [
    "comp_roc(lite[['EXT_SOURCE_1_predict', 'EXT_SOURCE_2_predict',\"EXT_SOURCE_3_predict\", target]].dropna(), ['EXT_SOURCE_1_predict', 'EXT_SOURCE_2_predict',\"EXT_SOURCE_3_predict\"])"
   ]
  },
  {
   "cell_type": "markdown",
   "id": "6adced14",
   "metadata": {},
   "source": [
    "### Private\n",
    "0.50000\n",
    "\n",
    "### Public\n",
    "0.50000\n",
    "\n",
    "Похоже на ошибку, но я пока не понял\n",
    "\n",
    "Предсказываются одни нули, так что буду предсказавать на срезе данных:\n",
    "### Private\n",
    "0.62106\n",
    "\n",
    "### Public\n",
    "0.63881\n"
   ]
  },
  {
   "cell_type": "code",
   "execution_count": 44,
   "id": "b1b01c9b",
   "metadata": {},
   "outputs": [],
   "source": [
    "predict_n_write_csv(['EXT_SOURCE_1_predict', 'EXT_SOURCE_2_predict',\"EXT_SOURCE_3_predict\"], 'all_ext_souce_plus.csv')"
   ]
  },
  {
   "cell_type": "markdown",
   "id": "fa7df97c",
   "metadata": {},
   "source": [
    "Раз мы можем получить из флагов EXT_SOURCE, значит из них можем получить и финальный результат:"
   ]
  },
  {
   "cell_type": "code",
   "execution_count": 46,
   "id": "ecf7ab1c",
   "metadata": {},
   "outputs": [
    {
     "name": "stdout",
     "output_type": "stream",
     "text": [
      "Fold full 0: roc_auc 0.5709818423818923, count values [0.51563711 0.54768168 0.51563711 ... 0.4005529  0.49074022 0.57988209]\n",
      "Fold full 1: roc_auc 0.5773416742731232, count values [0.57761343 0.46378924 0.57615728 ... 0.51891925 0.52040836 0.64438059]\n",
      "Fold full 2: roc_auc 0.5706275964120919, count values [0.52074993 0.58160087 0.40143668 ... 0.51573792 0.45430535 0.40143668]\n",
      "Fold full 3: roc_auc 0.5629730356107545, count values [0.65120279 0.51374827 0.58105669 ... 0.58105669 0.51374827 0.51161865]\n",
      "Fold full 4: roc_auc 0.575361979320325, count values [0.56689211 0.48335633 0.51420509 ... 0.40424474 0.51420509 0.51420509]\n",
      "roc average = 0.5714572255996374, std = 0.0049551910431407985\n"
     ]
    }
   ],
   "source": [
    "comp_roc(lite[flags + [target]].dropna(), flags)"
   ]
  },
  {
   "cell_type": "markdown",
   "id": "0ea049bb",
   "metadata": {},
   "source": [
    "Ерунда какая-то:\n",
    "### Private\n",
    "0.50000\n",
    "\n",
    "### Public\n",
    "0.50000\n",
    "\n",
    "После перехода на срез\n",
    "\n",
    "### Private\n",
    "0.55456\n",
    "\n",
    "### Public\n",
    "0.55075\n",
    "\n",
    "такое себе"
   ]
  },
  {
   "cell_type": "code",
   "execution_count": 47,
   "id": "b1f25878",
   "metadata": {},
   "outputs": [],
   "source": [
    "predict_n_write_csv(flags, 'just_fkags.csv')"
   ]
  },
  {
   "cell_type": "markdown",
   "id": "899b482d",
   "metadata": {},
   "source": [
    "Попробую добваить новый флаг"
   ]
  },
  {
   "cell_type": "code",
   "execution_count": 48,
   "id": "b0579fb9",
   "metadata": {},
   "outputs": [],
   "source": [
    "lite[\"have_big_credit\"] = lite['AMT_CREDIT_SUM'] > lite['AMT_GOODS_PRICE']\n",
    "lite[\"have_big_credit\"] = np.where(lite[\"have_big_credit\"], 1, 0)"
   ]
  },
  {
   "cell_type": "code",
   "execution_count": 71,
   "id": "8c73bb83",
   "metadata": {},
   "outputs": [
    {
     "name": "stdout",
     "output_type": "stream",
     "text": [
      "Fold full 0: roc_auc 0.6708606839783684, count values [0.76594103 0.28688151 0.76594103 ... 0.38022312 0.28688151 0.28688151]\n",
      "Fold full 1: roc_auc 0.6792527236176533, count values [0.38604686 0.57431643 0.67446014 ... 0.38604686 0.38604686 0.57431643]\n",
      "Fold full 2: roc_auc 0.6770236116569712, count values [0.57129511 0.76345168 0.57438873 ... 0.28473817 0.38510204 0.38510204]\n",
      "Fold full 3: roc_auc 0.6862841155093589, count values [0.38476884 0.28771757 0.59565936 ... 0.57275963 0.57275963 0.28771757]\n",
      "Fold full 4: roc_auc 0.6751127676199407, count values [0.67858476 0.5757384  0.49172427 ... 0.28764334 0.28764334 0.49172427]\n",
      "roc average = 0.6777067804764585, std = 0.00509951519380594\n"
     ]
    }
   ],
   "source": [
    "comp_roc(lite[['EXT_SOURCE_1_predict', 'EXT_SOURCE_2_predict',\"EXT_SOURCE_3_predict\"] + [target, 'have_big_credit']].dropna(), ['EXT_SOURCE_1_predict', 'EXT_SOURCE_2_predict',\"EXT_SOURCE_3_predict\", 'have_big_credit'])"
   ]
  },
  {
   "cell_type": "markdown",
   "id": "7db1b93e",
   "metadata": {},
   "source": [
    "### Private\n",
    "0.62106\n",
    "\n",
    "### Public\n",
    "0.63881\n",
    "\n",
    "ничего не поменялось"
   ]
  },
  {
   "cell_type": "code",
   "execution_count": 52,
   "id": "7dae2827",
   "metadata": {},
   "outputs": [],
   "source": [
    "test=test.join(pd.read_csv(\"../data/raw/bureau.csv\"), on='SK_ID_CURR', how='inner', rsuffix='_b')\n",
    "# train=train.join(pd.read_csv(\"../data/raw/bureau.csv\"), on='SK_ID_CURR', how='inner', rsuffix='_b')\n"
   ]
  },
  {
   "cell_type": "code",
   "execution_count": 54,
   "id": "1a39e6f4",
   "metadata": {},
   "outputs": [],
   "source": [
    "lite[\"have_big_credit\"] = lite['AMT_CREDIT_SUM'] > lite['AMT_GOODS_PRICE']\n",
    "lite[\"have_big_credit\"] = np.where(lite[\"have_big_credit\"], 1, 0)\n",
    "\n",
    "test[\"have_big_credit\"] = test['AMT_CREDIT_SUM'] > test['AMT_GOODS_PRICE']\n",
    "test[\"have_big_credit\"] = np.where(test[\"have_big_credit\"], 1, 0)"
   ]
  },
  {
   "cell_type": "code",
   "execution_count": 55,
   "id": "65d312db",
   "metadata": {},
   "outputs": [],
   "source": [
    "flags.append('have_big_credit')"
   ]
  },
  {
   "cell_type": "code",
   "execution_count": 72,
   "id": "31c6cb3e",
   "metadata": {},
   "outputs": [],
   "source": [
    "predict_n_write_csv(['EXT_SOURCE_1_predict', 'EXT_SOURCE_2_predict',\"EXT_SOURCE_3_predict\", 'have_big_credit'], 'just_flags_plus.csv')"
   ]
  },
  {
   "cell_type": "code",
   "execution_count": 57,
   "id": "ca39586c",
   "metadata": {},
   "outputs": [],
   "source": [
    "def count_docs(df):\n",
    "    df['DOCUMENT_FLAGS_COUNT'] = df['FLAG_DOCUMENT_2'] + df['FLAG_DOCUMENT_3'] + df['FLAG_DOCUMENT_4'] + df['FLAG_DOCUMENT_5'] + df['FLAG_DOCUMENT_6'] + df['FLAG_DOCUMENT_7'] + df['FLAG_DOCUMENT_8'] + df['FLAG_DOCUMENT_9'] + df['FLAG_DOCUMENT_10'] + df['FLAG_DOCUMENT_11'] + df['FLAG_DOCUMENT_12'] + df['FLAG_DOCUMENT_13'] + df['FLAG_DOCUMENT_14'] + df['FLAG_DOCUMENT_15'] + df['FLAG_DOCUMENT_16'] + df['FLAG_DOCUMENT_17'] + df['FLAG_DOCUMENT_18'] + df['FLAG_DOCUMENT_19'] + df['FLAG_DOCUMENT_20'] + df['FLAG_DOCUMENT_21']"
   ]
  },
  {
   "cell_type": "code",
   "execution_count": 61,
   "id": "9483751b",
   "metadata": {},
   "outputs": [],
   "source": [
    "count_docs(train)\n",
    "count_docs(test)\n",
    "count_docs(lite)"
   ]
  },
  {
   "cell_type": "code",
   "execution_count": 74,
   "id": "418b04f2",
   "metadata": {},
   "outputs": [
    {
     "name": "stdout",
     "output_type": "stream",
     "text": [
      "Fold full 0: roc_auc 0.6834854006556528, count values [0.57231214 0.57231214 0.72809982 ... 0.2545449  0.3436628  0.28925956]\n",
      "Fold full 1: roc_auc 0.6760622405858367, count values [0.57240697 0.68294327 0.71775335 ... 0.38131817 0.38131817 0.28944933]\n",
      "Fold full 2: roc_auc 0.6756963892548024, count values [0.76683531 0.28866229 0.76683531 ... 0.76683531 0.60056205 0.33605697]\n",
      "Fold full 3: roc_auc 0.6839099694742815, count values [0.38430017 0.57510512 0.76221219 ... 0.44158822 0.38430017 0.292343  ]\n",
      "Fold full 4: roc_auc 0.6748105579028507, count values [0.67725561 0.57687875 0.60784681 ... 0.73122265 0.49610764 0.52891265]\n",
      "roc average = 0.6787929115746849, std = 0.004027602031414368\n"
     ]
    }
   ],
   "source": [
    "comp_roc(lite[['EXT_SOURCE_1_predict', 'EXT_SOURCE_2_predict',\"EXT_SOURCE_3_predict\", \"DOCUMENT_FLAGS_COUNT\", target]], ['EXT_SOURCE_1_predict', 'EXT_SOURCE_2_predict',\"EXT_SOURCE_3_predict\", \"DOCUMENT_FLAGS_COUNT\"])"
   ]
  },
  {
   "cell_type": "markdown",
   "id": "e836d168",
   "metadata": {},
   "source": [
    "### Private\n",
    "0.50000\n",
    "\n",
    "### Public\n",
    "0.50000\n",
    "\n",
    "### Private\n",
    "0.55686\n",
    "\n",
    "### Public\n",
    "0.55395"
   ]
  },
  {
   "cell_type": "code",
   "execution_count": 75,
   "id": "ac083035",
   "metadata": {},
   "outputs": [],
   "source": [
    "predict_n_write_csv(['EXT_SOURCE_1_predict', 'EXT_SOURCE_2_predict',\"EXT_SOURCE_3_predict\", \"DOCUMENT_FLAGS_COUNT\"], 'flags_docs.csv')"
   ]
  },
  {
   "cell_type": "code",
   "execution_count": 65,
   "id": "be677473",
   "metadata": {
    "scrolled": true
   },
   "outputs": [
    {
     "name": "stdout",
     "output_type": "stream",
     "text": [
      "Fold full 0: roc_auc 0.5218828132813281, count values [0.49996789 0.49995184 0.49997324 ... 0.49996254 0.4999786  0.49996789]\n",
      "Fold full 1: roc_auc 0.5259735896716794, count values [0.49998716 0.49998288 0.4999786  ... 0.49994008 0.49998288 0.49998545]\n",
      "Fold full 2: roc_auc 0.5244563208198887, count values [0.49996584 0.4999573  0.49997438 ... 0.49994876 0.49994022 0.4998941 ]\n",
      "Fold full 3: roc_auc 0.5239340472943759, count values [0.49468473 0.48287909 0.48819005 ... 0.48376401 0.49261795 0.49261795]\n",
      "Fold full 4: roc_auc 0.522609745719385, count values [0.49990491 0.49986687 0.49988589 ... 0.49994675 0.49992393 0.49986687]\n",
      "roc average = 0.5237713033573315, std = 0.0014325788241386292\n"
     ]
    }
   ],
   "source": [
    "comp_roc(lite[flags + [\"DOCUMENT_FLAGS_COUNT\", 'AMT_INCOME_TOTAL', target]].fillna(0), flags + ['DOCUMENT_FLAGS_COUNT', 'AMT_INCOME_TOTAL'])"
   ]
  },
  {
   "cell_type": "markdown",
   "id": "25770824",
   "metadata": {},
   "source": [
    "### Private\n",
    "0.5\n",
    "\n",
    "### Public\n",
    "0.5\n",
    "\n",
    "опять фигня"
   ]
  },
  {
   "cell_type": "code",
   "execution_count": 66,
   "id": "fb55d097",
   "metadata": {},
   "outputs": [],
   "source": [
    "predict_n_write_csv(flags + ['DOCUMENT_FLAGS_COUNT', 'AMT_INCOME_TOTAL'], 'flags_docs_money.csv')"
   ]
  }
 ],
 "metadata": {
  "kernelspec": {
   "display_name": "Python 3 (ipykernel)",
   "language": "python",
   "name": "python3"
  },
  "language_info": {
   "codemirror_mode": {
    "name": "ipython",
    "version": 3
   },
   "file_extension": ".py",
   "mimetype": "text/x-python",
   "name": "python",
   "nbconvert_exporter": "python",
   "pygments_lexer": "ipython3",
   "version": "3.8.10"
  }
 },
 "nbformat": 4,
 "nbformat_minor": 5
}
